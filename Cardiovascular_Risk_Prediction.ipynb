{
  "cells": [
    {
      "cell_type": "markdown",
      "metadata": {
        "id": "view-in-github",
        "colab_type": "text"
      },
      "source": [
        "<a href=\"https://colab.research.google.com/github/waghmarenikita/Cardiovascular_Risk_Prediction/blob/main/Cardiovascular_Risk_Prediction.ipynb\" target=\"_parent\"><img src=\"https://colab.research.google.com/assets/colab-badge.svg\" alt=\"Open In Colab\"/></a>"
      ]
    },
    {
      "cell_type": "markdown",
      "metadata": {
        "id": "hb4puWYp18Mc"
      },
      "source": [
        "# **Project Name**    - Cardiovascular Risk Prediction."
      ]
    },
    {
      "cell_type": "markdown",
      "metadata": {
        "id": "JSDJOJMZ2AOe"
      },
      "source": [
        "##### **Project Type**    - Classification\n",
        "##### **Contribution**    - Team\n",
        "##### **Name -**           \n",
        "-Nikita Waghmare\n",
        "\n",
        "-Pratik Sondawale"
      ]
    },
    {
      "cell_type": "markdown",
      "metadata": {
        "id": "oThzjX732EFb"
      },
      "source": [
        "# **Project Summary -**"
      ]
    },
    {
      "cell_type": "markdown",
      "metadata": {
        "id": "nET5G_nP2LES"
      },
      "source": [
        "###The majority of people are not really aware of their unhealthy lifestyle, which can lead them to multiple serious diseases. One of them is coronary heart disease (CHD). Coronary heart disease is the term that describes what happens when your heart's blood supply is blocked or interrupted by a build-up of fatty substances in the coronary arteries.\n",
        "\n",
        "###Over time, the walls of your arteries can become furred up with fatty deposits that start to block the blood flow to the heart. This process is known as atherosclerosis and the fatty deposits are called atheroma.\n",
        "\n",
        "\n",
        "###Atherosclerosis can be caused by lifestyle factors, such as smoking and regularly drinking excessive amounts of alcohol. You're also more at risk of getting atherosclerosis if you have conditions like high cholesterol, high blood pressure (hypertension), or diabetes.\n",
        "\n",
        "\n",
        "###In this project, I am going to make a machine learning model that can predict after ten years whether the patient will have CHD or not with the best accuracy. I have the dataset from an ongoing cardiovascular study on residents of the town of Framingham, Massachusetts.\n",
        "\n",
        "\n",
        "###The classification goal is to predict whether the patient has a ten-year risk of future coronary heart disease (CHD). The dataset provides the patient's information. It includes 3390 records with 17 attributes. Each attribute is a potential risk factor. There are both demographic, and medical risk factors."
      ]
    },
    {
      "cell_type": "markdown",
      "metadata": {
        "id": "xVUUKL082WiC"
      },
      "source": [
        "# **Problem Statement**"
      ]
    },
    {
      "cell_type": "markdown",
      "metadata": {
        "id": "wR_heDM32hMT"
      },
      "source": [
        "**Our goal is to predict whether the patients has a ten year risk of future coronary heart disease (CHD) or not.This datset includes 3390 records with 17 attributes. Each attribute is a potential risk factor. There are both demographic, and medical risk factor.**"
      ]
    },
    {
      "cell_type": "markdown",
      "metadata": {
        "id": "tF2ANEyH2l2b"
      },
      "source": [
        "# ***Let's Begin !***"
      ]
    },
    {
      "cell_type": "markdown",
      "metadata": {
        "id": "6Ml89tSx2qvL"
      },
      "source": [
        "## ***1. Know Your Data***"
      ]
    },
    {
      "cell_type": "markdown",
      "metadata": {
        "id": "8-VDt-sq2tYk"
      },
      "source": [
        "### Import Libraries"
      ]
    },
    {
      "cell_type": "code",
      "execution_count": 1,
      "metadata": {
        "id": "UCQYwEIA21Iq"
      },
      "outputs": [],
      "source": [
        "# Import Libraries.\n",
        "import numpy as np                                                  # Imported for data manipulation and computationally efficient operation.\n",
        "import pandas as pd\n",
        "\n",
        "import matplotlib.pyplot as plt                                     # Imported for data visualization.\n",
        "%matplotlib inline\n",
        "import seaborn as sns\n",
        "sns.set(rc={'axes.facecolor':'lightblue', 'figure.facecolor':'lightblue'})\n",
        "import missingno as msno\n",
        "\n",
        "from sklearn.preprocessing import MinMaxScaler, StandardScaler\n",
        "\n",
        "from sklearn.linear_model import LogisticRegression                 # Imported scikit learn for model training, model optimization, and metrics calculation.\n",
        "from sklearn.tree import DecisionTreeClassifier\n",
        "from sklearn.ensemble import RandomForestClassifier\n",
        "from xgboost import XGBClassifier\n",
        "from sklearn.neighbors import KNeighborsClassifier\n",
        "from sklearn.svm import SVC\n",
        "\n",
        "from sklearn.model_selection import RandomizedSearchCV, GridSearchCV\n",
        "from sklearn.linear_model import LogisticRegressionCV\n",
        "from sklearn.model_selection import cross_validate\n",
        "\n",
        "from sklearn.model_selection import train_test_split\n",
        "from sklearn import metrics\n",
        "from sklearn.metrics import accuracy_score, confusion_matrix, precision_score, recall_score, classification_report, roc_auc_score\n",
        "\n",
        "import warnings                                                     # To ignore warnings if any.\n",
        "warnings.filterwarnings(\"ignore\")"
      ]
    },
    {
      "cell_type": "markdown",
      "metadata": {
        "id": "Ymw8-8aK24RS"
      },
      "source": [
        "### Dataset Loading"
      ]
    },
    {
      "cell_type": "code",
      "source": [
        "# drive mounting.\n",
        "from google.colab import drive\n",
        "drive.mount('/content/drive')"
      ],
      "metadata": {
        "id": "PgtzvJUX5czL"
      },
      "execution_count": null,
      "outputs": []
    },
    {
      "cell_type": "code",
      "execution_count": null,
      "metadata": {
        "id": "sbfj_Lir2-Jy"
      },
      "outputs": [],
      "source": [
        "# Load Dataset.\n",
        "df = pd.read_csv('/content/drive/MyDrive/Alma DS/Projects/Classification/data_cardiovascular_risk.csv')"
      ]
    },
    {
      "cell_type": "markdown",
      "metadata": {
        "id": "hH_eNvEZ3BBC"
      },
      "source": [
        "### Dataset First View"
      ]
    },
    {
      "cell_type": "code",
      "execution_count": null,
      "metadata": {
        "id": "OtZlW3wP3D2S",
        "colab": {
          "base_uri": "https://localhost:8080/",
          "height": 206
        },
        "outputId": "76f04cf1-7f78-48b5-d840-9ed805da0da7"
      },
      "outputs": [
        {
          "output_type": "execute_result",
          "data": {
            "text/plain": [
              "   id  age  education sex is_smoking  cigsPerDay  BPMeds  prevalentStroke  \\\n",
              "0   0   64        2.0   F        YES         3.0     0.0                0   \n",
              "1   1   36        4.0   M         NO         0.0     0.0                0   \n",
              "2   2   46        1.0   F        YES        10.0     0.0                0   \n",
              "3   3   50        1.0   M        YES        20.0     0.0                0   \n",
              "4   4   64        1.0   F        YES        30.0     0.0                0   \n",
              "\n",
              "   prevalentHyp  diabetes  totChol  sysBP  diaBP    BMI  heartRate  glucose  \\\n",
              "0             0         0    221.0  148.0   85.0    NaN       90.0     80.0   \n",
              "1             1         0    212.0  168.0   98.0  29.77       72.0     75.0   \n",
              "2             0         0    250.0  116.0   71.0  20.35       88.0     94.0   \n",
              "3             1         0    233.0  158.0   88.0  28.26       68.0     94.0   \n",
              "4             0         0    241.0  136.5   85.0  26.42       70.0     77.0   \n",
              "\n",
              "   TenYearCHD  \n",
              "0           1  \n",
              "1           0  \n",
              "2           0  \n",
              "3           1  \n",
              "4           0  "
            ],
            "text/html": [
              "\n",
              "  <div id=\"df-e7c9819e-c5c5-4e28-b1f5-295f4e53ff65\" class=\"colab-df-container\">\n",
              "    <div>\n",
              "<style scoped>\n",
              "    .dataframe tbody tr th:only-of-type {\n",
              "        vertical-align: middle;\n",
              "    }\n",
              "\n",
              "    .dataframe tbody tr th {\n",
              "        vertical-align: top;\n",
              "    }\n",
              "\n",
              "    .dataframe thead th {\n",
              "        text-align: right;\n",
              "    }\n",
              "</style>\n",
              "<table border=\"1\" class=\"dataframe\">\n",
              "  <thead>\n",
              "    <tr style=\"text-align: right;\">\n",
              "      <th></th>\n",
              "      <th>id</th>\n",
              "      <th>age</th>\n",
              "      <th>education</th>\n",
              "      <th>sex</th>\n",
              "      <th>is_smoking</th>\n",
              "      <th>cigsPerDay</th>\n",
              "      <th>BPMeds</th>\n",
              "      <th>prevalentStroke</th>\n",
              "      <th>prevalentHyp</th>\n",
              "      <th>diabetes</th>\n",
              "      <th>totChol</th>\n",
              "      <th>sysBP</th>\n",
              "      <th>diaBP</th>\n",
              "      <th>BMI</th>\n",
              "      <th>heartRate</th>\n",
              "      <th>glucose</th>\n",
              "      <th>TenYearCHD</th>\n",
              "    </tr>\n",
              "  </thead>\n",
              "  <tbody>\n",
              "    <tr>\n",
              "      <th>0</th>\n",
              "      <td>0</td>\n",
              "      <td>64</td>\n",
              "      <td>2.0</td>\n",
              "      <td>F</td>\n",
              "      <td>YES</td>\n",
              "      <td>3.0</td>\n",
              "      <td>0.0</td>\n",
              "      <td>0</td>\n",
              "      <td>0</td>\n",
              "      <td>0</td>\n",
              "      <td>221.0</td>\n",
              "      <td>148.0</td>\n",
              "      <td>85.0</td>\n",
              "      <td>NaN</td>\n",
              "      <td>90.0</td>\n",
              "      <td>80.0</td>\n",
              "      <td>1</td>\n",
              "    </tr>\n",
              "    <tr>\n",
              "      <th>1</th>\n",
              "      <td>1</td>\n",
              "      <td>36</td>\n",
              "      <td>4.0</td>\n",
              "      <td>M</td>\n",
              "      <td>NO</td>\n",
              "      <td>0.0</td>\n",
              "      <td>0.0</td>\n",
              "      <td>0</td>\n",
              "      <td>1</td>\n",
              "      <td>0</td>\n",
              "      <td>212.0</td>\n",
              "      <td>168.0</td>\n",
              "      <td>98.0</td>\n",
              "      <td>29.77</td>\n",
              "      <td>72.0</td>\n",
              "      <td>75.0</td>\n",
              "      <td>0</td>\n",
              "    </tr>\n",
              "    <tr>\n",
              "      <th>2</th>\n",
              "      <td>2</td>\n",
              "      <td>46</td>\n",
              "      <td>1.0</td>\n",
              "      <td>F</td>\n",
              "      <td>YES</td>\n",
              "      <td>10.0</td>\n",
              "      <td>0.0</td>\n",
              "      <td>0</td>\n",
              "      <td>0</td>\n",
              "      <td>0</td>\n",
              "      <td>250.0</td>\n",
              "      <td>116.0</td>\n",
              "      <td>71.0</td>\n",
              "      <td>20.35</td>\n",
              "      <td>88.0</td>\n",
              "      <td>94.0</td>\n",
              "      <td>0</td>\n",
              "    </tr>\n",
              "    <tr>\n",
              "      <th>3</th>\n",
              "      <td>3</td>\n",
              "      <td>50</td>\n",
              "      <td>1.0</td>\n",
              "      <td>M</td>\n",
              "      <td>YES</td>\n",
              "      <td>20.0</td>\n",
              "      <td>0.0</td>\n",
              "      <td>0</td>\n",
              "      <td>1</td>\n",
              "      <td>0</td>\n",
              "      <td>233.0</td>\n",
              "      <td>158.0</td>\n",
              "      <td>88.0</td>\n",
              "      <td>28.26</td>\n",
              "      <td>68.0</td>\n",
              "      <td>94.0</td>\n",
              "      <td>1</td>\n",
              "    </tr>\n",
              "    <tr>\n",
              "      <th>4</th>\n",
              "      <td>4</td>\n",
              "      <td>64</td>\n",
              "      <td>1.0</td>\n",
              "      <td>F</td>\n",
              "      <td>YES</td>\n",
              "      <td>30.0</td>\n",
              "      <td>0.0</td>\n",
              "      <td>0</td>\n",
              "      <td>0</td>\n",
              "      <td>0</td>\n",
              "      <td>241.0</td>\n",
              "      <td>136.5</td>\n",
              "      <td>85.0</td>\n",
              "      <td>26.42</td>\n",
              "      <td>70.0</td>\n",
              "      <td>77.0</td>\n",
              "      <td>0</td>\n",
              "    </tr>\n",
              "  </tbody>\n",
              "</table>\n",
              "</div>\n",
              "    <div class=\"colab-df-buttons\">\n",
              "\n",
              "  <div class=\"colab-df-container\">\n",
              "    <button class=\"colab-df-convert\" onclick=\"convertToInteractive('df-e7c9819e-c5c5-4e28-b1f5-295f4e53ff65')\"\n",
              "            title=\"Convert this dataframe to an interactive table.\"\n",
              "            style=\"display:none;\">\n",
              "\n",
              "  <svg xmlns=\"http://www.w3.org/2000/svg\" height=\"24px\" viewBox=\"0 -960 960 960\">\n",
              "    <path d=\"M120-120v-720h720v720H120Zm60-500h600v-160H180v160Zm220 220h160v-160H400v160Zm0 220h160v-160H400v160ZM180-400h160v-160H180v160Zm440 0h160v-160H620v160ZM180-180h160v-160H180v160Zm440 0h160v-160H620v160Z\"/>\n",
              "  </svg>\n",
              "    </button>\n",
              "\n",
              "  <style>\n",
              "    .colab-df-container {\n",
              "      display:flex;\n",
              "      gap: 12px;\n",
              "    }\n",
              "\n",
              "    .colab-df-convert {\n",
              "      background-color: #E8F0FE;\n",
              "      border: none;\n",
              "      border-radius: 50%;\n",
              "      cursor: pointer;\n",
              "      display: none;\n",
              "      fill: #1967D2;\n",
              "      height: 32px;\n",
              "      padding: 0 0 0 0;\n",
              "      width: 32px;\n",
              "    }\n",
              "\n",
              "    .colab-df-convert:hover {\n",
              "      background-color: #E2EBFA;\n",
              "      box-shadow: 0px 1px 2px rgba(60, 64, 67, 0.3), 0px 1px 3px 1px rgba(60, 64, 67, 0.15);\n",
              "      fill: #174EA6;\n",
              "    }\n",
              "\n",
              "    .colab-df-buttons div {\n",
              "      margin-bottom: 4px;\n",
              "    }\n",
              "\n",
              "    [theme=dark] .colab-df-convert {\n",
              "      background-color: #3B4455;\n",
              "      fill: #D2E3FC;\n",
              "    }\n",
              "\n",
              "    [theme=dark] .colab-df-convert:hover {\n",
              "      background-color: #434B5C;\n",
              "      box-shadow: 0px 1px 3px 1px rgba(0, 0, 0, 0.15);\n",
              "      filter: drop-shadow(0px 1px 2px rgba(0, 0, 0, 0.3));\n",
              "      fill: #FFFFFF;\n",
              "    }\n",
              "  </style>\n",
              "\n",
              "    <script>\n",
              "      const buttonEl =\n",
              "        document.querySelector('#df-e7c9819e-c5c5-4e28-b1f5-295f4e53ff65 button.colab-df-convert');\n",
              "      buttonEl.style.display =\n",
              "        google.colab.kernel.accessAllowed ? 'block' : 'none';\n",
              "\n",
              "      async function convertToInteractive(key) {\n",
              "        const element = document.querySelector('#df-e7c9819e-c5c5-4e28-b1f5-295f4e53ff65');\n",
              "        const dataTable =\n",
              "          await google.colab.kernel.invokeFunction('convertToInteractive',\n",
              "                                                    [key], {});\n",
              "        if (!dataTable) return;\n",
              "\n",
              "        const docLinkHtml = 'Like what you see? Visit the ' +\n",
              "          '<a target=\"_blank\" href=https://colab.research.google.com/notebooks/data_table.ipynb>data table notebook</a>'\n",
              "          + ' to learn more about interactive tables.';\n",
              "        element.innerHTML = '';\n",
              "        dataTable['output_type'] = 'display_data';\n",
              "        await google.colab.output.renderOutput(dataTable, element);\n",
              "        const docLink = document.createElement('div');\n",
              "        docLink.innerHTML = docLinkHtml;\n",
              "        element.appendChild(docLink);\n",
              "      }\n",
              "    </script>\n",
              "  </div>\n",
              "\n",
              "\n",
              "<div id=\"df-42e6c456-e1da-44dd-becd-dd1f570aedc9\">\n",
              "  <button class=\"colab-df-quickchart\" onclick=\"quickchart('df-42e6c456-e1da-44dd-becd-dd1f570aedc9')\"\n",
              "            title=\"Suggest charts\"\n",
              "            style=\"display:none;\">\n",
              "\n",
              "<svg xmlns=\"http://www.w3.org/2000/svg\" height=\"24px\"viewBox=\"0 0 24 24\"\n",
              "     width=\"24px\">\n",
              "    <g>\n",
              "        <path d=\"M19 3H5c-1.1 0-2 .9-2 2v14c0 1.1.9 2 2 2h14c1.1 0 2-.9 2-2V5c0-1.1-.9-2-2-2zM9 17H7v-7h2v7zm4 0h-2V7h2v10zm4 0h-2v-4h2v4z\"/>\n",
              "    </g>\n",
              "</svg>\n",
              "  </button>\n",
              "\n",
              "<style>\n",
              "  .colab-df-quickchart {\n",
              "      --bg-color: #E8F0FE;\n",
              "      --fill-color: #1967D2;\n",
              "      --hover-bg-color: #E2EBFA;\n",
              "      --hover-fill-color: #174EA6;\n",
              "      --disabled-fill-color: #AAA;\n",
              "      --disabled-bg-color: #DDD;\n",
              "  }\n",
              "\n",
              "  [theme=dark] .colab-df-quickchart {\n",
              "      --bg-color: #3B4455;\n",
              "      --fill-color: #D2E3FC;\n",
              "      --hover-bg-color: #434B5C;\n",
              "      --hover-fill-color: #FFFFFF;\n",
              "      --disabled-bg-color: #3B4455;\n",
              "      --disabled-fill-color: #666;\n",
              "  }\n",
              "\n",
              "  .colab-df-quickchart {\n",
              "    background-color: var(--bg-color);\n",
              "    border: none;\n",
              "    border-radius: 50%;\n",
              "    cursor: pointer;\n",
              "    display: none;\n",
              "    fill: var(--fill-color);\n",
              "    height: 32px;\n",
              "    padding: 0;\n",
              "    width: 32px;\n",
              "  }\n",
              "\n",
              "  .colab-df-quickchart:hover {\n",
              "    background-color: var(--hover-bg-color);\n",
              "    box-shadow: 0 1px 2px rgba(60, 64, 67, 0.3), 0 1px 3px 1px rgba(60, 64, 67, 0.15);\n",
              "    fill: var(--button-hover-fill-color);\n",
              "  }\n",
              "\n",
              "  .colab-df-quickchart-complete:disabled,\n",
              "  .colab-df-quickchart-complete:disabled:hover {\n",
              "    background-color: var(--disabled-bg-color);\n",
              "    fill: var(--disabled-fill-color);\n",
              "    box-shadow: none;\n",
              "  }\n",
              "\n",
              "  .colab-df-spinner {\n",
              "    border: 2px solid var(--fill-color);\n",
              "    border-color: transparent;\n",
              "    border-bottom-color: var(--fill-color);\n",
              "    animation:\n",
              "      spin 1s steps(1) infinite;\n",
              "  }\n",
              "\n",
              "  @keyframes spin {\n",
              "    0% {\n",
              "      border-color: transparent;\n",
              "      border-bottom-color: var(--fill-color);\n",
              "      border-left-color: var(--fill-color);\n",
              "    }\n",
              "    20% {\n",
              "      border-color: transparent;\n",
              "      border-left-color: var(--fill-color);\n",
              "      border-top-color: var(--fill-color);\n",
              "    }\n",
              "    30% {\n",
              "      border-color: transparent;\n",
              "      border-left-color: var(--fill-color);\n",
              "      border-top-color: var(--fill-color);\n",
              "      border-right-color: var(--fill-color);\n",
              "    }\n",
              "    40% {\n",
              "      border-color: transparent;\n",
              "      border-right-color: var(--fill-color);\n",
              "      border-top-color: var(--fill-color);\n",
              "    }\n",
              "    60% {\n",
              "      border-color: transparent;\n",
              "      border-right-color: var(--fill-color);\n",
              "    }\n",
              "    80% {\n",
              "      border-color: transparent;\n",
              "      border-right-color: var(--fill-color);\n",
              "      border-bottom-color: var(--fill-color);\n",
              "    }\n",
              "    90% {\n",
              "      border-color: transparent;\n",
              "      border-bottom-color: var(--fill-color);\n",
              "    }\n",
              "  }\n",
              "</style>\n",
              "\n",
              "  <script>\n",
              "    async function quickchart(key) {\n",
              "      const quickchartButtonEl =\n",
              "        document.querySelector('#' + key + ' button');\n",
              "      quickchartButtonEl.disabled = true;  // To prevent multiple clicks.\n",
              "      quickchartButtonEl.classList.add('colab-df-spinner');\n",
              "      try {\n",
              "        const charts = await google.colab.kernel.invokeFunction(\n",
              "            'suggestCharts', [key], {});\n",
              "      } catch (error) {\n",
              "        console.error('Error during call to suggestCharts:', error);\n",
              "      }\n",
              "      quickchartButtonEl.classList.remove('colab-df-spinner');\n",
              "      quickchartButtonEl.classList.add('colab-df-quickchart-complete');\n",
              "    }\n",
              "    (() => {\n",
              "      let quickchartButtonEl =\n",
              "        document.querySelector('#df-42e6c456-e1da-44dd-becd-dd1f570aedc9 button');\n",
              "      quickchartButtonEl.style.display =\n",
              "        google.colab.kernel.accessAllowed ? 'block' : 'none';\n",
              "    })();\n",
              "  </script>\n",
              "</div>\n",
              "    </div>\n",
              "  </div>\n"
            ]
          },
          "metadata": {},
          "execution_count": 4
        }
      ],
      "source": [
        "# Dataset First Look.\n",
        "df.head()"
      ]
    },
    {
      "cell_type": "markdown",
      "metadata": {
        "id": "0GJl5zvN3IcC"
      },
      "source": [
        "### Dataset Rows & Columns count"
      ]
    },
    {
      "cell_type": "code",
      "execution_count": null,
      "metadata": {
        "id": "qV6VxN1Q3JBK",
        "colab": {
          "base_uri": "https://localhost:8080/"
        },
        "outputId": "0ff320e9-0d17-4cb4-9b52-831c8fe0ed81"
      },
      "outputs": [
        {
          "output_type": "execute_result",
          "data": {
            "text/plain": [
              "(3390, 17)"
            ]
          },
          "metadata": {},
          "execution_count": 5
        }
      ],
      "source": [
        "# Dataset Rows & Columns count.\n",
        "df.shape"
      ]
    },
    {
      "cell_type": "markdown",
      "metadata": {
        "id": "R0-nJ6oI3NVi"
      },
      "source": [
        "### Dataset Information"
      ]
    },
    {
      "cell_type": "code",
      "execution_count": null,
      "metadata": {
        "id": "YC-X-nna3N7i",
        "colab": {
          "base_uri": "https://localhost:8080/"
        },
        "outputId": "75a51e3f-5ca2-407f-d3c4-26385cfa39a2"
      },
      "outputs": [
        {
          "output_type": "stream",
          "name": "stdout",
          "text": [
            "<class 'pandas.core.frame.DataFrame'>\n",
            "RangeIndex: 3390 entries, 0 to 3389\n",
            "Data columns (total 17 columns):\n",
            " #   Column           Non-Null Count  Dtype  \n",
            "---  ------           --------------  -----  \n",
            " 0   id               3390 non-null   int64  \n",
            " 1   age              3390 non-null   int64  \n",
            " 2   education        3303 non-null   float64\n",
            " 3   sex              3390 non-null   object \n",
            " 4   is_smoking       3390 non-null   object \n",
            " 5   cigsPerDay       3368 non-null   float64\n",
            " 6   BPMeds           3346 non-null   float64\n",
            " 7   prevalentStroke  3390 non-null   int64  \n",
            " 8   prevalentHyp     3390 non-null   int64  \n",
            " 9   diabetes         3390 non-null   int64  \n",
            " 10  totChol          3352 non-null   float64\n",
            " 11  sysBP            3390 non-null   float64\n",
            " 12  diaBP            3390 non-null   float64\n",
            " 13  BMI              3376 non-null   float64\n",
            " 14  heartRate        3389 non-null   float64\n",
            " 15  glucose          3086 non-null   float64\n",
            " 16  TenYearCHD       3390 non-null   int64  \n",
            "dtypes: float64(9), int64(6), object(2)\n",
            "memory usage: 450.4+ KB\n"
          ]
        }
      ],
      "source": [
        "# Dataset Info.\n",
        "df.info()"
      ]
    },
    {
      "cell_type": "markdown",
      "metadata": {
        "id": "MkMzQngH3S-a"
      },
      "source": [
        "#### Duplicate Values"
      ]
    },
    {
      "cell_type": "code",
      "execution_count": null,
      "metadata": {
        "id": "H5uFqtcp3Tkp",
        "colab": {
          "base_uri": "https://localhost:8080/"
        },
        "outputId": "6009397c-7413-4abc-8d45-03b54717dd3e"
      },
      "outputs": [
        {
          "output_type": "stream",
          "name": "stdout",
          "text": [
            "Duplicate Rows: 0\n"
          ]
        }
      ],
      "source": [
        "# Dataset Duplicate Value Count.\n",
        "duplicate = len(df[df.duplicated()])\n",
        "print(\"Duplicate Rows:\", duplicate)"
      ]
    },
    {
      "cell_type": "markdown",
      "metadata": {
        "id": "aeGeWXou3Xdy"
      },
      "source": [
        "#### Missing Values/Null Values"
      ]
    },
    {
      "cell_type": "code",
      "execution_count": null,
      "metadata": {
        "id": "-nHD5xAh3X_a",
        "colab": {
          "base_uri": "https://localhost:8080/"
        },
        "outputId": "8066e41d-0f59-45ee-f79a-bb40aa530032"
      },
      "outputs": [
        {
          "output_type": "execute_result",
          "data": {
            "text/plain": [
              "id                   0\n",
              "age                  0\n",
              "education           87\n",
              "sex                  0\n",
              "is_smoking           0\n",
              "cigsPerDay          22\n",
              "BPMeds              44\n",
              "prevalentStroke      0\n",
              "prevalentHyp         0\n",
              "diabetes             0\n",
              "totChol             38\n",
              "sysBP                0\n",
              "diaBP                0\n",
              "BMI                 14\n",
              "heartRate            1\n",
              "glucose            304\n",
              "TenYearCHD           0\n",
              "dtype: int64"
            ]
          },
          "metadata": {},
          "execution_count": 8
        }
      ],
      "source": [
        "# Missing Values/Null Values Count.\n",
        "df.isnull().sum()"
      ]
    },
    {
      "cell_type": "code",
      "execution_count": null,
      "metadata": {
        "id": "-sbUMbcL3dyS",
        "colab": {
          "base_uri": "https://localhost:8080/",
          "height": 724
        },
        "outputId": "337caa63-4398-43a8-812c-32cece2c32f0"
      },
      "outputs": [
        {
          "output_type": "execute_result",
          "data": {
            "text/plain": [
              "<Axes: >"
            ]
          },
          "metadata": {},
          "execution_count": 9
        },
        {
          "output_type": "display_data",
          "data": {
            "text/plain": [
              "<Figure size 1400x700 with 2 Axes>"
            ],
            "image/png": "[encoded data removed]"
          },
          "metadata": {}
        }
      ],
      "source": [
        "# Visualizing the missing values.\n",
        "msno.matrix(df, figsize = (14,7), fontsize =(12))"
      ]
    },
    {
      "cell_type": "markdown",
      "metadata": {
        "id": "lDGJDoJ2Yz1t"
      },
      "source": [
        "### What did you know about your dataset?"
      ]
    },
    {
      "cell_type": "markdown",
      "metadata": {
        "id": "vTm7MaOEY0Z5"
      },
      "source": [
        "This dataset contains 3390 observation with 17 attributes. It has some categorical and continuous features. It also consist some null values in seven columns. Namely education, cigrattes per day, BP medication, total cholestrol, BMI and glucose. Heart rate has only one null values."
      ]
    },
    {
      "cell_type": "code",
      "execution_count": null,
      "metadata": {
        "id": "vDSrVLB16IZj",
        "colab": {
          "base_uri": "https://localhost:8080/"
        },
        "outputId": "7a8f6080-0547-4758-d163-c1c8e1b86550"
      },
      "outputs": [
        {
          "output_type": "execute_result",
          "data": {
            "text/plain": [
              "Index(['id', 'age', 'education', 'sex', 'is_smoking', 'cigsPerDay', 'BPMeds',\n",
              "       'prevalentStroke', 'prevalentHyp', 'diabetes', 'totChol', 'sysBP',\n",
              "       'diaBP', 'BMI', 'heartRate', 'glucose', 'TenYearCHD'],\n",
              "      dtype='object')"
            ]
          },
          "metadata": {},
          "execution_count": 10
        }
      ],
      "source": [
        "df.columns"
      ]
    },
    {
      "cell_type": "markdown",
      "metadata": {
        "id": "sddYLi0d3myj"
      },
      "source": [
        "## ***2. Understanding Your Variables***"
      ]
    },
    {
      "cell_type": "markdown",
      "metadata": {
        "id": "GbanolFx6G37"
      },
      "source": [
        "###**Variable Description**\n",
        "\n",
        "**id :-** unique identification of the patients.\n",
        "\n",
        "**age :-** Patient age.\n",
        "\n",
        "**education :-** Education of the patients.\n",
        "\n",
        "**sex :-** Gender.\n",
        "\n",
        "**is_smoking :-** Whether the patient is currently smoking or not.\n",
        "\n",
        "**cigsPerDay :-** Cigrattes smoked per day.\n",
        "\n",
        "**BPMeds :-** Whether taking BP meds or not.\n",
        "\n",
        "**prevelantStroke :-** If the patient has a history of stroke.\n",
        "\n",
        "**prevalentHyp :-** If the patient has a history of hypertension.\n",
        "\n",
        "**diabetes :-** Patient has diabetes or not.\n",
        "\n",
        "**totChol :-** Total cholesterol measure.\n",
        "\n",
        "**sysBP :-** BP measure.\n",
        "\n",
        "**diaBP :-** BP measure.\n",
        "\n",
        "**BMI :-** Body mass index.\n",
        "\n",
        "**heartRate :-** Heart rate measure.\n",
        "\n",
        "**glucose :-** Blood glucose or blood sugar level in miligram per decilitere.\n",
        "\n",
        "**TenYearCHD :-** After ten years the patient will have the coronary heart disease or not."
      ]
    },
    {
      "cell_type": "markdown",
      "metadata": {
        "id": "x-6DC3-tASSq"
      },
      "source": [
        "###**Target Variable :-** TenYearCHD"
      ]
    },
    {
      "cell_type": "code",
      "execution_count": null,
      "metadata": {
        "id": "am4MyL-U4XEM",
        "colab": {
          "base_uri": "https://localhost:8080/"
        },
        "outputId": "e06aa357-2fd3-45c2-95bc-4c7d3f231cc8"
      },
      "outputs": [
        {
          "output_type": "execute_result",
          "data": {
            "text/plain": [
              "Index(['id', 'age', 'education', 'sex', 'is_smoking', 'cigsPerDay', 'BPMeds',\n",
              "       'prevalentStroke', 'prevalentHyp', 'diabetes', 'totChol', 'sysBP',\n",
              "       'diaBP', 'BMI', 'heartRate', 'glucose', 'TenYearCHD'],\n",
              "      dtype='object')"
            ]
          },
          "metadata": {},
          "execution_count": 11
        }
      ],
      "source": [
        "# Dataset Columns.\n",
        "df.columns\n"
      ]
    },
    {
      "cell_type": "code",
      "execution_count": null,
      "metadata": {
        "id": "FduLyYRo4aXs",
        "colab": {
          "base_uri": "https://localhost:8080/",
          "height": 519
        },
        "outputId": "895b96ee-f3f6-4451-bea0-68461a995759"
      },
      "outputs": [
        {
          "output_type": "execute_result",
          "data": {
            "text/plain": [
              "                  count         mean         std     min     25%      50%  \\\n",
              "id               3390.0  1694.500000  978.753033    0.00  847.25  1694.50   \n",
              "age              3390.0    49.542183    8.592878   32.00   42.00    49.00   \n",
              "education        3303.0     1.970936    1.019081    1.00    1.00     2.00   \n",
              "cigsPerDay       3368.0     9.069477   11.879078    0.00    0.00     0.00   \n",
              "BPMeds           3346.0     0.029886    0.170299    0.00    0.00     0.00   \n",
              "prevalentStroke  3390.0     0.006490    0.080309    0.00    0.00     0.00   \n",
              "prevalentHyp     3390.0     0.315339    0.464719    0.00    0.00     0.00   \n",
              "diabetes         3390.0     0.025664    0.158153    0.00    0.00     0.00   \n",
              "totChol          3352.0   237.074284   45.247430  107.00  206.00   234.00   \n",
              "sysBP            3390.0   132.601180   22.292030   83.50  117.00   128.50   \n",
              "diaBP            3390.0    82.883038   12.023581   48.00   74.50    82.00   \n",
              "BMI              3376.0    25.794964    4.115449   15.96   23.02    25.38   \n",
              "heartRate        3389.0    75.977279   11.971868   45.00   68.00    75.00   \n",
              "glucose          3086.0    82.086520   24.244753   40.00   71.00    78.00   \n",
              "TenYearCHD       3390.0     0.150737    0.357846    0.00    0.00     0.00   \n",
              "\n",
              "                     75%     max  \n",
              "id               2541.75  3389.0  \n",
              "age                56.00    70.0  \n",
              "education           3.00     4.0  \n",
              "cigsPerDay         20.00    70.0  \n",
              "BPMeds              0.00     1.0  \n",
              "prevalentStroke     0.00     1.0  \n",
              "prevalentHyp        1.00     1.0  \n",
              "diabetes            0.00     1.0  \n",
              "totChol           264.00   696.0  \n",
              "sysBP             144.00   295.0  \n",
              "diaBP              90.00   142.5  \n",
              "BMI                28.04    56.8  \n",
              "heartRate          83.00   143.0  \n",
              "glucose            87.00   394.0  \n",
              "TenYearCHD          0.00     1.0  "
            ],
            "text/html": [
              "\n",
              "  <div id=\"df-74b7098d-5cc6-4d67-be38-b467a0c7b9b7\" class=\"colab-df-container\">\n",
              "    <div>\n",
              "<style scoped>\n",
              "    .dataframe tbody tr th:only-of-type {\n",
              "        vertical-align: middle;\n",
              "    }\n",
              "\n",
              "    .dataframe tbody tr th {\n",
              "        vertical-align: top;\n",
              "    }\n",
              "\n",
              "    .dataframe thead th {\n",
              "        text-align: right;\n",
              "    }\n",
              "</style>\n",
              "<table border=\"1\" class=\"dataframe\">\n",
              "  <thead>\n",
              "    <tr style=\"text-align: right;\">\n",
              "      <th></th>\n",
              "      <th>count</th>\n",
              "      <th>mean</th>\n",
              "      <th>std</th>\n",
              "      <th>min</th>\n",
              "      <th>25%</th>\n",
              "      <th>50%</th>\n",
              "      <th>75%</th>\n",
              "      <th>max</th>\n",
              "    </tr>\n",
              "  </thead>\n",
              "  <tbody>\n",
              "    <tr>\n",
              "      <th>id</th>\n",
              "      <td>3390.0</td>\n",
              "      <td>1694.500000</td>\n",
              "      <td>978.753033</td>\n",
              "      <td>0.00</td>\n",
              "      <td>847.25</td>\n",
              "      <td>1694.50</td>\n",
              "      <td>2541.75</td>\n",
              "      <td>3389.0</td>\n",
              "    </tr>\n",
              "    <tr>\n",
              "      <th>age</th>\n",
              "      <td>3390.0</td>\n",
              "      <td>49.542183</td>\n",
              "      <td>8.592878</td>\n",
              "      <td>32.00</td>\n",
              "      <td>42.00</td>\n",
              "      <td>49.00</td>\n",
              "      <td>56.00</td>\n",
              "      <td>70.0</td>\n",
              "    </tr>\n",
              "    <tr>\n",
              "      <th>education</th>\n",
              "      <td>3303.0</td>\n",
              "      <td>1.970936</td>\n",
              "      <td>1.019081</td>\n",
              "      <td>1.00</td>\n",
              "      <td>1.00</td>\n",
              "      <td>2.00</td>\n",
              "      <td>3.00</td>\n",
              "      <td>4.0</td>\n",
              "    </tr>\n",
              "    <tr>\n",
              "      <th>cigsPerDay</th>\n",
              "      <td>3368.0</td>\n",
              "      <td>9.069477</td>\n",
              "      <td>11.879078</td>\n",
              "      <td>0.00</td>\n",
              "      <td>0.00</td>\n",
              "      <td>0.00</td>\n",
              "      <td>20.00</td>\n",
              "      <td>70.0</td>\n",
              "    </tr>\n",
              "    <tr>\n",
              "      <th>BPMeds</th>\n",
              "      <td>3346.0</td>\n",
              "      <td>0.029886</td>\n",
              "      <td>0.170299</td>\n",
              "      <td>0.00</td>\n",
              "      <td>0.00</td>\n",
              "      <td>0.00</td>\n",
              "      <td>0.00</td>\n",
              "      <td>1.0</td>\n",
              "    </tr>\n",
              "    <tr>\n",
              "      <th>prevalentStroke</th>\n",
              "      <td>3390.0</td>\n",
              "      <td>0.006490</td>\n",
              "      <td>0.080309</td>\n",
              "      <td>0.00</td>\n",
              "      <td>0.00</td>\n",
              "      <td>0.00</td>\n",
              "      <td>0.00</td>\n",
              "      <td>1.0</td>\n",
              "    </tr>\n",
              "    <tr>\n",
              "      <th>prevalentHyp</th>\n",
              "      <td>3390.0</td>\n",
              "      <td>0.315339</td>\n",
              "      <td>0.464719</td>\n",
              "      <td>0.00</td>\n",
              "      <td>0.00</td>\n",
              "      <td>0.00</td>\n",
              "      <td>1.00</td>\n",
              "      <td>1.0</td>\n",
              "    </tr>\n",
              "    <tr>\n",
              "      <th>diabetes</th>\n",
              "      <td>3390.0</td>\n",
              "      <td>0.025664</td>\n",
              "      <td>0.158153</td>\n",
              "      <td>0.00</td>\n",
              "      <td>0.00</td>\n",
              "      <td>0.00</td>\n",
              "      <td>0.00</td>\n",
              "      <td>1.0</td>\n",
              "    </tr>\n",
              "    <tr>\n",
              "      <th>totChol</th>\n",
              "      <td>3352.0</td>\n",
              "      <td>237.074284</td>\n",
              "      <td>45.247430</td>\n",
              "      <td>107.00</td>\n",
              "      <td>206.00</td>\n",
              "      <td>234.00</td>\n",
              "      <td>264.00</td>\n",
              "      <td>696.0</td>\n",
              "    </tr>\n",
              "    <tr>\n",
              "      <th>sysBP</th>\n",
              "      <td>3390.0</td>\n",
              "      <td>132.601180</td>\n",
              "      <td>22.292030</td>\n",
              "      <td>83.50</td>\n",
              "      <td>117.00</td>\n",
              "      <td>128.50</td>\n",
              "      <td>144.00</td>\n",
              "      <td>295.0</td>\n",
              "    </tr>\n",
              "    <tr>\n",
              "      <th>diaBP</th>\n",
              "      <td>3390.0</td>\n",
              "      <td>82.883038</td>\n",
              "      <td>12.023581</td>\n",
              "      <td>48.00</td>\n",
              "      <td>74.50</td>\n",
              "      <td>82.00</td>\n",
              "      <td>90.00</td>\n",
              "      <td>142.5</td>\n",
              "    </tr>\n",
              "    <tr>\n",
              "      <th>BMI</th>\n",
              "      <td>3376.0</td>\n",
              "      <td>25.794964</td>\n",
              "      <td>4.115449</td>\n",
              "      <td>15.96</td>\n",
              "      <td>23.02</td>\n",
              "      <td>25.38</td>\n",
              "      <td>28.04</td>\n",
              "      <td>56.8</td>\n",
              "    </tr>\n",
              "    <tr>\n",
              "      <th>heartRate</th>\n",
              "      <td>3389.0</td>\n",
              "      <td>75.977279</td>\n",
              "      <td>11.971868</td>\n",
              "      <td>45.00</td>\n",
              "      <td>68.00</td>\n",
              "      <td>75.00</td>\n",
              "      <td>83.00</td>\n",
              "      <td>143.0</td>\n",
              "    </tr>\n",
              "    <tr>\n",
              "      <th>glucose</th>\n",
              "      <td>3086.0</td>\n",
              "      <td>82.086520</td>\n",
              "      <td>24.244753</td>\n",
              "      <td>40.00</td>\n",
              "      <td>71.00</td>\n",
              "      <td>78.00</td>\n",
              "      <td>87.00</td>\n",
              "      <td>394.0</td>\n",
              "    </tr>\n",
              "    <tr>\n",
              "      <th>TenYearCHD</th>\n",
              "      <td>3390.0</td>\n",
              "      <td>0.150737</td>\n",
              "      <td>0.357846</td>\n",
              "      <td>0.00</td>\n",
              "      <td>0.00</td>\n",
              "      <td>0.00</td>\n",
              "      <td>0.00</td>\n",
              "      <td>1.0</td>\n",
              "    </tr>\n",
              "  </tbody>\n",
              "</table>\n",
              "</div>\n",
              "    <div class=\"colab-df-buttons\">\n",
              "\n",
              "  <div class=\"colab-df-container\">\n",
              "    <button class=\"colab-df-convert\" onclick=\"convertToInteractive('df-74b7098d-5cc6-4d67-be38-b467a0c7b9b7')\"\n",
              "            title=\"Convert this dataframe to an interactive table.\"\n",
              "            style=\"display:none;\">\n",
              "\n",
              "  <svg xmlns=\"http://www.w3.org/2000/svg\" height=\"24px\" viewBox=\"0 -960 960 960\">\n",
              "    <path d=\"M120-120v-720h720v720H120Zm60-500h600v-160H180v160Zm220 220h160v-160H400v160Zm0 220h160v-160H400v160ZM180-400h160v-160H180v160Zm440 0h160v-160H620v160ZM180-180h160v-160H180v160Zm440 0h160v-160H620v160Z\"/>\n",
              "  </svg>\n",
              "    </button>\n",
              "\n",
              "  <style>\n",
              "    .colab-df-container {\n",
              "      display:flex;\n",
              "      gap: 12px;\n",
              "    }\n",
              "\n",
              "    .colab-df-convert {\n",
              "      background-color: #E8F0FE;\n",
              "      border: none;\n",
              "      border-radius: 50%;\n",
              "      cursor: pointer;\n",
              "      display: none;\n",
              "      fill: #1967D2;\n",
              "      height: 32px;\n",
              "      padding: 0 0 0 0;\n",
              "      width: 32px;\n",
              "    }\n",
              "\n",
              "    .colab-df-convert:hover {\n",
              "      background-color: #E2EBFA;\n",
              "      box-shadow: 0px 1px 2px rgba(60, 64, 67, 0.3), 0px 1px 3px 1px rgba(60, 64, 67, 0.15);\n",
              "      fill: #174EA6;\n",
              "    }\n",
              "\n",
              "    .colab-df-buttons div {\n",
              "      margin-bottom: 4px;\n",
              "    }\n",
              "\n",
              "    [theme=dark] .colab-df-convert {\n",
              "      background-color: #3B4455;\n",
              "      fill: #D2E3FC;\n",
              "    }\n",
              "\n",
              "    [theme=dark] .colab-df-convert:hover {\n",
              "      background-color: #434B5C;\n",
              "      box-shadow: 0px 1px 3px 1px rgba(0, 0, 0, 0.15);\n",
              "      filter: drop-shadow(0px 1px 2px rgba(0, 0, 0, 0.3));\n",
              "      fill: #FFFFFF;\n",
              "    }\n",
              "  </style>\n",
              "\n",
              "    <script>\n",
              "      const buttonEl =\n",
              "        document.querySelector('#df-74b7098d-5cc6-4d67-be38-b467a0c7b9b7 button.colab-df-convert');\n",
              "      buttonEl.style.display =\n",
              "        google.colab.kernel.accessAllowed ? 'block' : 'none';\n",
              "\n",
              "      async function convertToInteractive(key) {\n",
              "        const element = document.querySelector('#df-74b7098d-5cc6-4d67-be38-b467a0c7b9b7');\n",
              "        const dataTable =\n",
              "          await google.colab.kernel.invokeFunction('convertToInteractive',\n",
              "                                                    [key], {});\n",
              "        if (!dataTable) return;\n",
              "\n",
              "        const docLinkHtml = 'Like what you see? Visit the ' +\n",
              "          '<a target=\"_blank\" href=https://colab.research.google.com/notebooks/data_table.ipynb>data table notebook</a>'\n",
              "          + ' to learn more about interactive tables.';\n",
              "        element.innerHTML = '';\n",
              "        dataTable['output_type'] = 'display_data';\n",
              "        await google.colab.output.renderOutput(dataTable, element);\n",
              "        const docLink = document.createElement('div');\n",
              "        docLink.innerHTML = docLinkHtml;\n",
              "        element.appendChild(docLink);\n",
              "      }\n",
              "    </script>\n",
              "  </div>\n",
              "\n",
              "\n",
              "<div id=\"df-c60c6d32-5525-4763-91f0-380039de22ad\">\n",
              "  <button class=\"colab-df-quickchart\" onclick=\"quickchart('df-c60c6d32-5525-4763-91f0-380039de22ad')\"\n",
              "            title=\"Suggest charts\"\n",
              "            style=\"display:none;\">\n",
              "\n",
              "<svg xmlns=\"http://www.w3.org/2000/svg\" height=\"24px\"viewBox=\"0 0 24 24\"\n",
              "     width=\"24px\">\n",
              "    <g>\n",
              "        <path d=\"M19 3H5c-1.1 0-2 .9-2 2v14c0 1.1.9 2 2 2h14c1.1 0 2-.9 2-2V5c0-1.1-.9-2-2-2zM9 17H7v-7h2v7zm4 0h-2V7h2v10zm4 0h-2v-4h2v4z\"/>\n",
              "    </g>\n",
              "</svg>\n",
              "  </button>\n",
              "\n",
              "<style>\n",
              "  .colab-df-quickchart {\n",
              "      --bg-color: #E8F0FE;\n",
              "      --fill-color: #1967D2;\n",
              "      --hover-bg-color: #E2EBFA;\n",
              "      --hover-fill-color: #174EA6;\n",
              "      --disabled-fill-color: #AAA;\n",
              "      --disabled-bg-color: #DDD;\n",
              "  }\n",
              "\n",
              "  [theme=dark] .colab-df-quickchart {\n",
              "      --bg-color: #3B4455;\n",
              "      --fill-color: #D2E3FC;\n",
              "      --hover-bg-color: #434B5C;\n",
              "      --hover-fill-color: #FFFFFF;\n",
              "      --disabled-bg-color: #3B4455;\n",
              "      --disabled-fill-color: #666;\n",
              "  }\n",
              "\n",
              "  .colab-df-quickchart {\n",
              "    background-color: var(--bg-color);\n",
              "    border: none;\n",
              "    border-radius: 50%;\n",
              "    cursor: pointer;\n",
              "    display: none;\n",
              "    fill: var(--fill-color);\n",
              "    height: 32px;\n",
              "    padding: 0;\n",
              "    width: 32px;\n",
              "  }\n",
              "\n",
              "  .colab-df-quickchart:hover {\n",
              "    background-color: var(--hover-bg-color);\n",
              "    box-shadow: 0 1px 2px rgba(60, 64, 67, 0.3), 0 1px 3px 1px rgba(60, 64, 67, 0.15);\n",
              "    fill: var(--button-hover-fill-color);\n",
              "  }\n",
              "\n",
              "  .colab-df-quickchart-complete:disabled,\n",
              "  .colab-df-quickchart-complete:disabled:hover {\n",
              "    background-color: var(--disabled-bg-color);\n",
              "    fill: var(--disabled-fill-color);\n",
              "    box-shadow: none;\n",
              "  }\n",
              "\n",
              "  .colab-df-spinner {\n",
              "    border: 2px solid var(--fill-color);\n",
              "    border-color: transparent;\n",
              "    border-bottom-color: var(--fill-color);\n",
              "    animation:\n",
              "      spin 1s steps(1) infinite;\n",
              "  }\n",
              "\n",
              "  @keyframes spin {\n",
              "    0% {\n",
              "      border-color: transparent;\n",
              "      border-bottom-color: var(--fill-color);\n",
              "      border-left-color: var(--fill-color);\n",
              "    }\n",
              "    20% {\n",
              "      border-color: transparent;\n",
              "      border-left-color: var(--fill-color);\n",
              "      border-top-color: var(--fill-color);\n",
              "    }\n",
              "    30% {\n",
              "      border-color: transparent;\n",
              "      border-left-color: var(--fill-color);\n",
              "      border-top-color: var(--fill-color);\n",
              "      border-right-color: var(--fill-color);\n",
              "    }\n",
              "    40% {\n",
              "      border-color: transparent;\n",
              "      border-right-color: var(--fill-color);\n",
              "      border-top-color: var(--fill-color);\n",
              "    }\n",
              "    60% {\n",
              "      border-color: transparent;\n",
              "      border-right-color: var(--fill-color);\n",
              "    }\n",
              "    80% {\n",
              "      border-color: transparent;\n",
              "      border-right-color: var(--fill-color);\n",
              "      border-bottom-color: var(--fill-color);\n",
              "    }\n",
              "    90% {\n",
              "      border-color: transparent;\n",
              "      border-bottom-color: var(--fill-color);\n",
              "    }\n",
              "  }\n",
              "</style>\n",
              "\n",
              "  <script>\n",
              "    async function quickchart(key) {\n",
              "      const quickchartButtonEl =\n",
              "        document.querySelector('#' + key + ' button');\n",
              "      quickchartButtonEl.disabled = true;  // To prevent multiple clicks.\n",
              "      quickchartButtonEl.classList.add('colab-df-spinner');\n",
              "      try {\n",
              "        const charts = await google.colab.kernel.invokeFunction(\n",
              "            'suggestCharts', [key], {});\n",
              "      } catch (error) {\n",
              "        console.error('Error during call to suggestCharts:', error);\n",
              "      }\n",
              "      quickchartButtonEl.classList.remove('colab-df-spinner');\n",
              "      quickchartButtonEl.classList.add('colab-df-quickchart-complete');\n",
              "    }\n",
              "    (() => {\n",
              "      let quickchartButtonEl =\n",
              "        document.querySelector('#df-c60c6d32-5525-4763-91f0-380039de22ad button');\n",
              "      quickchartButtonEl.style.display =\n",
              "        google.colab.kernel.accessAllowed ? 'block' : 'none';\n",
              "    })();\n",
              "  </script>\n",
              "</div>\n",
              "    </div>\n",
              "  </div>\n"
            ]
          },
          "metadata": {},
          "execution_count": 12
        }
      ],
      "source": [
        "# Dataset Describe.\n",
        "df.describe().T"
      ]
    },
    {
      "cell_type": "code",
      "execution_count": null,
      "metadata": {
        "id": "jB8rfKso4a3j",
        "colab": {
          "base_uri": "https://localhost:8080/",
          "height": 112
        },
        "outputId": "980da583-fad5-42be-971a-6a385e796d95"
      },
      "outputs": [
        {
          "output_type": "execute_result",
          "data": {
            "text/plain": [
              "           count unique top  freq\n",
              "sex         3390      2   F  1923\n",
              "is_smoking  3390      2  NO  1703"
            ],
            "text/html": [
              "\n",
              "  <div id=\"df-99787215-0cba-4811-a5eb-eb6956a2b230\" class=\"colab-df-container\">\n",
              "    <div>\n",
              "<style scoped>\n",
              "    .dataframe tbody tr th:only-of-type {\n",
              "        vertical-align: middle;\n",
              "    }\n",
              "\n",
              "    .dataframe tbody tr th {\n",
              "        vertical-align: top;\n",
              "    }\n",
              "\n",
              "    .dataframe thead th {\n",
              "        text-align: right;\n",
              "    }\n",
              "</style>\n",
              "<table border=\"1\" class=\"dataframe\">\n",
              "  <thead>\n",
              "    <tr style=\"text-align: right;\">\n",
              "      <th></th>\n",
              "      <th>count</th>\n",
              "      <th>unique</th>\n",
              "      <th>top</th>\n",
              "      <th>freq</th>\n",
              "    </tr>\n",
              "  </thead>\n",
              "  <tbody>\n",
              "    <tr>\n",
              "      <th>sex</th>\n",
              "      <td>3390</td>\n",
              "      <td>2</td>\n",
              "      <td>F</td>\n",
              "      <td>1923</td>\n",
              "    </tr>\n",
              "    <tr>\n",
              "      <th>is_smoking</th>\n",
              "      <td>3390</td>\n",
              "      <td>2</td>\n",
              "      <td>NO</td>\n",
              "      <td>1703</td>\n",
              "    </tr>\n",
              "  </tbody>\n",
              "</table>\n",
              "</div>\n",
              "    <div class=\"colab-df-buttons\">\n",
              "\n",
              "  <div class=\"colab-df-container\">\n",
              "    <button class=\"colab-df-convert\" onclick=\"convertToInteractive('df-99787215-0cba-4811-a5eb-eb6956a2b230')\"\n",
              "            title=\"Convert this dataframe to an interactive table.\"\n",
              "            style=\"display:none;\">\n",
              "\n",
              "  <svg xmlns=\"http://www.w3.org/2000/svg\" height=\"24px\" viewBox=\"0 -960 960 960\">\n",
              "    <path d=\"M120-120v-720h720v720H120Zm60-500h600v-160H180v160Zm220 220h160v-160H400v160Zm0 220h160v-160H400v160ZM180-400h160v-160H180v160Zm440 0h160v-160H620v160ZM180-180h160v-160H180v160Zm440 0h160v-160H620v160Z\"/>\n",
              "  </svg>\n",
              "    </button>\n",
              "\n",
              "  <style>\n",
              "    .colab-df-container {\n",
              "      display:flex;\n",
              "      gap: 12px;\n",
              "    }\n",
              "\n",
              "    .colab-df-convert {\n",
              "      background-color: #E8F0FE;\n",
              "      border: none;\n",
              "      border-radius: 50%;\n",
              "      cursor: pointer;\n",
              "      display: none;\n",
              "      fill: #1967D2;\n",
              "      height: 32px;\n",
              "      padding: 0 0 0 0;\n",
              "      width: 32px;\n",
              "    }\n",
              "\n",
              "    .colab-df-convert:hover {\n",
              "      background-color: #E2EBFA;\n",
              "      box-shadow: 0px 1px 2px rgba(60, 64, 67, 0.3), 0px 1px 3px 1px rgba(60, 64, 67, 0.15);\n",
              "      fill: #174EA6;\n",
              "    }\n",
              "\n",
              "    .colab-df-buttons div {\n",
              "      margin-bottom: 4px;\n",
              "    }\n",
              "\n",
              "    [theme=dark] .colab-df-convert {\n",
              "      background-color: #3B4455;\n",
              "      fill: #D2E3FC;\n",
              "    }\n",
              "\n",
              "    [theme=dark] .colab-df-convert:hover {\n",
              "      background-color: #434B5C;\n",
              "      box-shadow: 0px 1px 3px 1px rgba(0, 0, 0, 0.15);\n",
              "      filter: drop-shadow(0px 1px 2px rgba(0, 0, 0, 0.3));\n",
              "      fill: #FFFFFF;\n",
              "    }\n",
              "  </style>\n",
              "\n",
              "    <script>\n",
              "      const buttonEl =\n",
              "        document.querySelector('#df-99787215-0cba-4811-a5eb-eb6956a2b230 button.colab-df-convert');\n",
              "      buttonEl.style.display =\n",
              "        google.colab.kernel.accessAllowed ? 'block' : 'none';\n",
              "\n",
              "      async function convertToInteractive(key) {\n",
              "        const element = document.querySelector('#df-99787215-0cba-4811-a5eb-eb6956a2b230');\n",
              "        const dataTable =\n",
              "          await google.colab.kernel.invokeFunction('convertToInteractive',\n",
              "                                                    [key], {});\n",
              "        if (!dataTable) return;\n",
              "\n",
              "        const docLinkHtml = 'Like what you see? Visit the ' +\n",
              "          '<a target=\"_blank\" href=https://colab.research.google.com/notebooks/data_table.ipynb>data table notebook</a>'\n",
              "          + ' to learn more about interactive tables.';\n",
              "        element.innerHTML = '';\n",
              "        dataTable['output_type'] = 'display_data';\n",
              "        await google.colab.output.renderOutput(dataTable, element);\n",
              "        const docLink = document.createElement('div');\n",
              "        docLink.innerHTML = docLinkHtml;\n",
              "        element.appendChild(docLink);\n",
              "      }\n",
              "    </script>\n",
              "  </div>\n",
              "\n",
              "\n",
              "<div id=\"df-e44927b8-0938-407b-8cf0-d28d76aa7cd6\">\n",
              "  <button class=\"colab-df-quickchart\" onclick=\"quickchart('df-e44927b8-0938-407b-8cf0-d28d76aa7cd6')\"\n",
              "            title=\"Suggest charts\"\n",
              "            style=\"display:none;\">\n",
              "\n",
              "<svg xmlns=\"http://www.w3.org/2000/svg\" height=\"24px\"viewBox=\"0 0 24 24\"\n",
              "     width=\"24px\">\n",
              "    <g>\n",
              "        <path d=\"M19 3H5c-1.1 0-2 .9-2 2v14c0 1.1.9 2 2 2h14c1.1 0 2-.9 2-2V5c0-1.1-.9-2-2-2zM9 17H7v-7h2v7zm4 0h-2V7h2v10zm4 0h-2v-4h2v4z\"/>\n",
              "    </g>\n",
              "</svg>\n",
              "  </button>\n",
              "\n",
              "<style>\n",
              "  .colab-df-quickchart {\n",
              "      --bg-color: #E8F0FE;\n",
              "      --fill-color: #1967D2;\n",
              "      --hover-bg-color: #E2EBFA;\n",
              "      --hover-fill-color: #174EA6;\n",
              "      --disabled-fill-color: #AAA;\n",
              "      --disabled-bg-color: #DDD;\n",
              "  }\n",
              "\n",
              "  [theme=dark] .colab-df-quickchart {\n",
              "      --bg-color: #3B4455;\n",
              "      --fill-color: #D2E3FC;\n",
              "      --hover-bg-color: #434B5C;\n",
              "      --hover-fill-color: #FFFFFF;\n",
              "      --disabled-bg-color: #3B4455;\n",
              "      --disabled-fill-color: #666;\n",
              "  }\n",
              "\n",
              "  .colab-df-quickchart {\n",
              "    background-color: var(--bg-color);\n",
              "    border: none;\n",
              "    border-radius: 50%;\n",
              "    cursor: pointer;\n",
              "    display: none;\n",
              "    fill: var(--fill-color);\n",
              "    height: 32px;\n",
              "    padding: 0;\n",
              "    width: 32px;\n",
              "  }\n",
              "\n",
              "  .colab-df-quickchart:hover {\n",
              "    background-color: var(--hover-bg-color);\n",
              "    box-shadow: 0 1px 2px rgba(60, 64, 67, 0.3), 0 1px 3px 1px rgba(60, 64, 67, 0.15);\n",
              "    fill: var(--button-hover-fill-color);\n",
              "  }\n",
              "\n",
              "  .colab-df-quickchart-complete:disabled,\n",
              "  .colab-df-quickchart-complete:disabled:hover {\n",
              "    background-color: var(--disabled-bg-color);\n",
              "    fill: var(--disabled-fill-color);\n",
              "    box-shadow: none;\n",
              "  }\n",
              "\n",
              "  .colab-df-spinner {\n",
              "    border: 2px solid var(--fill-color);\n",
              "    border-color: transparent;\n",
              "    border-bottom-color: var(--fill-color);\n",
              "    animation:\n",
              "      spin 1s steps(1) infinite;\n",
              "  }\n",
              "\n",
              "  @keyframes spin {\n",
              "    0% {\n",
              "      border-color: transparent;\n",
              "      border-bottom-color: var(--fill-color);\n",
              "      border-left-color: var(--fill-color);\n",
              "    }\n",
              "    20% {\n",
              "      border-color: transparent;\n",
              "      border-left-color: var(--fill-color);\n",
              "      border-top-color: var(--fill-color);\n",
              "    }\n",
              "    30% {\n",
              "      border-color: transparent;\n",
              "      border-left-color: var(--fill-color);\n",
              "      border-top-color: var(--fill-color);\n",
              "      border-right-color: var(--fill-color);\n",
              "    }\n",
              "    40% {\n",
              "      border-color: transparent;\n",
              "      border-right-color: var(--fill-color);\n",
              "      border-top-color: var(--fill-color);\n",
              "    }\n",
              "    60% {\n",
              "      border-color: transparent;\n",
              "      border-right-color: var(--fill-color);\n",
              "    }\n",
              "    80% {\n",
              "      border-color: transparent;\n",
              "      border-right-color: var(--fill-color);\n",
              "      border-bottom-color: var(--fill-color);\n",
              "    }\n",
              "    90% {\n",
              "      border-color: transparent;\n",
              "      border-bottom-color: var(--fill-color);\n",
              "    }\n",
              "  }\n",
              "</style>\n",
              "\n",
              "  <script>\n",
              "    async function quickchart(key) {\n",
              "      const quickchartButtonEl =\n",
              "        document.querySelector('#' + key + ' button');\n",
              "      quickchartButtonEl.disabled = true;  // To prevent multiple clicks.\n",
              "      quickchartButtonEl.classList.add('colab-df-spinner');\n",
              "      try {\n",
              "        const charts = await google.colab.kernel.invokeFunction(\n",
              "            'suggestCharts', [key], {});\n",
              "      } catch (error) {\n",
              "        console.error('Error during call to suggestCharts:', error);\n",
              "      }\n",
              "      quickchartButtonEl.classList.remove('colab-df-spinner');\n",
              "      quickchartButtonEl.classList.add('colab-df-quickchart-complete');\n",
              "    }\n",
              "    (() => {\n",
              "      let quickchartButtonEl =\n",
              "        document.querySelector('#df-e44927b8-0938-407b-8cf0-d28d76aa7cd6 button');\n",
              "      quickchartButtonEl.style.display =\n",
              "        google.colab.kernel.accessAllowed ? 'block' : 'none';\n",
              "    })();\n",
              "  </script>\n",
              "</div>\n",
              "    </div>\n",
              "  </div>\n"
            ]
          },
          "metadata": {},
          "execution_count": 13
        }
      ],
      "source": [
        "# description of categorical columns.\n",
        "df.describe(include = 'object').T"
      ]
    },
    {
      "cell_type": "markdown",
      "metadata": {
        "id": "cWVA4q8DAvGT"
      },
      "source": [
        "### Unique Values for each variable."
      ]
    },
    {
      "cell_type": "code",
      "execution_count": null,
      "metadata": {
        "id": "ymJrTYYs5IIa",
        "colab": {
          "base_uri": "https://localhost:8080/"
        },
        "outputId": "aef0f132-0f9e-4cdc-90d5-4b48cce5692e"
      },
      "outputs": [
        {
          "output_type": "execute_result",
          "data": {
            "text/plain": [
              "id                 [0, 1, 2, 3, 4, 5, 6, 7, 8, 9, 10, 11, 12, 13,...\n",
              "age                [64, 36, 46, 50, 61, 41, 55, 53, 43, 44, 58, 5...\n",
              "education                                  [2.0, 4.0, 1.0, 3.0, nan]\n",
              "sex                                                           [F, M]\n",
              "is_smoking                                                 [YES, NO]\n",
              "cigsPerDay         [3.0, 0.0, 10.0, 20.0, 30.0, 35.0, 40.0, 15.0,...\n",
              "BPMeds                                               [0.0, nan, 1.0]\n",
              "prevalentStroke                                               [0, 1]\n",
              "prevalentHyp                                                  [0, 1]\n",
              "diabetes                                                      [0, 1]\n",
              "totChol            [221.0, 212.0, 250.0, 233.0, 241.0, 272.0, 238...\n",
              "sysBP              [148.0, 168.0, 116.0, 158.0, 136.5, 182.0, 232...\n",
              "diaBP              [85.0, 98.0, 71.0, 88.0, 121.0, 136.0, 68.0, 7...\n",
              "BMI                [nan, 29.77, 20.35, 28.26, 26.42, 32.8, 24.83,...\n",
              "heartRate          [90.0, 72.0, 88.0, 68.0, 70.0, 85.0, 75.0, 60....\n",
              "glucose            [80.0, 75.0, 94.0, 77.0, 65.0, 79.0, 63.0, nan...\n",
              "TenYearCHD                                                    [1, 0]\n",
              "dtype: object"
            ]
          },
          "metadata": {},
          "execution_count": 14
        }
      ],
      "source": [
        "# Unique Values for each variable.\n",
        "df.apply(lambda x: x.unique())"
      ]
    },
    {
      "cell_type": "markdown",
      "metadata": {
        "id": "UlVH6BdxFXOr"
      },
      "source": [
        "## 3. ***Data Wrangling***"
      ]
    },
    {
      "cell_type": "code",
      "execution_count": null,
      "metadata": {
        "id": "2VcQw0heW-Za",
        "colab": {
          "base_uri": "https://localhost:8080/",
          "height": 206
        },
        "outputId": "5b0323b7-a1c3-4559-eee3-6bc2d234318f"
      },
      "outputs": [
        {
          "output_type": "execute_result",
          "data": {
            "text/plain": [
              "   id  age  education sex is_smoking  cigsPerDay  BPMeds  prevalentStroke  \\\n",
              "0   0   64        2.0   F        YES         3.0     0.0                0   \n",
              "1   1   36        4.0   M         NO         0.0     0.0                0   \n",
              "2   2   46        1.0   F        YES        10.0     0.0                0   \n",
              "3   3   50        1.0   M        YES        20.0     0.0                0   \n",
              "4   4   64        1.0   F        YES        30.0     0.0                0   \n",
              "\n",
              "   prevalentHyp  diabetes  totChol  sysBP  diaBP    BMI  heartRate  glucose  \\\n",
              "0             0         0    221.0  148.0   85.0    NaN       90.0     80.0   \n",
              "1             1         0    212.0  168.0   98.0  29.77       72.0     75.0   \n",
              "2             0         0    250.0  116.0   71.0  20.35       88.0     94.0   \n",
              "3             1         0    233.0  158.0   88.0  28.26       68.0     94.0   \n",
              "4             0         0    241.0  136.5   85.0  26.42       70.0     77.0   \n",
              "\n",
              "   TenYearCHD  \n",
              "0           1  \n",
              "1           0  \n",
              "2           0  \n",
              "3           1  \n",
              "4           0  "
            ],
            "text/html": [
              "\n",
              "  <div id=\"df-7b29323e-6e81-485f-aee7-ded3c0d2cf55\" class=\"colab-df-container\">\n",
              "    <div>\n",
              "<style scoped>\n",
              "    .dataframe tbody tr th:only-of-type {\n",
              "        vertical-align: middle;\n",
              "    }\n",
              "\n",
              "    .dataframe tbody tr th {\n",
              "        vertical-align: top;\n",
              "    }\n",
              "\n",
              "    .dataframe thead th {\n",
              "        text-align: right;\n",
              "    }\n",
              "</style>\n",
              "<table border=\"1\" class=\"dataframe\">\n",
              "  <thead>\n",
              "    <tr style=\"text-align: right;\">\n",
              "      <th></th>\n",
              "      <th>id</th>\n",
              "      <th>age</th>\n",
              "      <th>education</th>\n",
              "      <th>sex</th>\n",
              "      <th>is_smoking</th>\n",
              "      <th>cigsPerDay</th>\n",
              "      <th>BPMeds</th>\n",
              "      <th>prevalentStroke</th>\n",
              "      <th>prevalentHyp</th>\n",
              "      <th>diabetes</th>\n",
              "      <th>totChol</th>\n",
              "      <th>sysBP</th>\n",
              "      <th>diaBP</th>\n",
              "      <th>BMI</th>\n",
              "      <th>heartRate</th>\n",
              "      <th>glucose</th>\n",
              "      <th>TenYearCHD</th>\n",
              "    </tr>\n",
              "  </thead>\n",
              "  <tbody>\n",
              "    <tr>\n",
              "      <th>0</th>\n",
              "      <td>0</td>\n",
              "      <td>64</td>\n",
              "      <td>2.0</td>\n",
              "      <td>F</td>\n",
              "      <td>YES</td>\n",
              "      <td>3.0</td>\n",
              "      <td>0.0</td>\n",
              "      <td>0</td>\n",
              "      <td>0</td>\n",
              "      <td>0</td>\n",
              "      <td>221.0</td>\n",
              "      <td>148.0</td>\n",
              "      <td>85.0</td>\n",
              "      <td>NaN</td>\n",
              "      <td>90.0</td>\n",
              "      <td>80.0</td>\n",
              "      <td>1</td>\n",
              "    </tr>\n",
              "    <tr>\n",
              "      <th>1</th>\n",
              "      <td>1</td>\n",
              "      <td>36</td>\n",
              "      <td>4.0</td>\n",
              "      <td>M</td>\n",
              "      <td>NO</td>\n",
              "      <td>0.0</td>\n",
              "      <td>0.0</td>\n",
              "      <td>0</td>\n",
              "      <td>1</td>\n",
              "      <td>0</td>\n",
              "      <td>212.0</td>\n",
              "      <td>168.0</td>\n",
              "      <td>98.0</td>\n",
              "      <td>29.77</td>\n",
              "      <td>72.0</td>\n",
              "      <td>75.0</td>\n",
              "      <td>0</td>\n",
              "    </tr>\n",
              "    <tr>\n",
              "      <th>2</th>\n",
              "      <td>2</td>\n",
              "      <td>46</td>\n",
              "      <td>1.0</td>\n",
              "      <td>F</td>\n",
              "      <td>YES</td>\n",
              "      <td>10.0</td>\n",
              "      <td>0.0</td>\n",
              "      <td>0</td>\n",
              "      <td>0</td>\n",
              "      <td>0</td>\n",
              "      <td>250.0</td>\n",
              "      <td>116.0</td>\n",
              "      <td>71.0</td>\n",
              "      <td>20.35</td>\n",
              "      <td>88.0</td>\n",
              "      <td>94.0</td>\n",
              "      <td>0</td>\n",
              "    </tr>\n",
              "    <tr>\n",
              "      <th>3</th>\n",
              "      <td>3</td>\n",
              "      <td>50</td>\n",
              "      <td>1.0</td>\n",
              "      <td>M</td>\n",
              "      <td>YES</td>\n",
              "      <td>20.0</td>\n",
              "      <td>0.0</td>\n",
              "      <td>0</td>\n",
              "      <td>1</td>\n",
              "      <td>0</td>\n",
              "      <td>233.0</td>\n",
              "      <td>158.0</td>\n",
              "      <td>88.0</td>\n",
              "      <td>28.26</td>\n",
              "      <td>68.0</td>\n",
              "      <td>94.0</td>\n",
              "      <td>1</td>\n",
              "    </tr>\n",
              "    <tr>\n",
              "      <th>4</th>\n",
              "      <td>4</td>\n",
              "      <td>64</td>\n",
              "      <td>1.0</td>\n",
              "      <td>F</td>\n",
              "      <td>YES</td>\n",
              "      <td>30.0</td>\n",
              "      <td>0.0</td>\n",
              "      <td>0</td>\n",
              "      <td>0</td>\n",
              "      <td>0</td>\n",
              "      <td>241.0</td>\n",
              "      <td>136.5</td>\n",
              "      <td>85.0</td>\n",
              "      <td>26.42</td>\n",
              "      <td>70.0</td>\n",
              "      <td>77.0</td>\n",
              "      <td>0</td>\n",
              "    </tr>\n",
              "  </tbody>\n",
              "</table>\n",
              "</div>\n",
              "    <div class=\"colab-df-buttons\">\n",
              "\n",
              "  <div class=\"colab-df-container\">\n",
              "    <button class=\"colab-df-convert\" onclick=\"convertToInteractive('df-7b29323e-6e81-485f-aee7-ded3c0d2cf55')\"\n",
              "            title=\"Convert this dataframe to an interactive table.\"\n",
              "            style=\"display:none;\">\n",
              "\n",
              "  <svg xmlns=\"http://www.w3.org/2000/svg\" height=\"24px\" viewBox=\"0 -960 960 960\">\n",
              "    <path d=\"M120-120v-720h720v720H120Zm60-500h600v-160H180v160Zm220 220h160v-160H400v160Zm0 220h160v-160H400v160ZM180-400h160v-160H180v160Zm440 0h160v-160H620v160ZM180-180h160v-160H180v160Zm440 0h160v-160H620v160Z\"/>\n",
              "  </svg>\n",
              "    </button>\n",
              "\n",
              "  <style>\n",
              "    .colab-df-container {\n",
              "      display:flex;\n",
              "      gap: 12px;\n",
              "    }\n",
              "\n",
              "    .colab-df-convert {\n",
              "      background-color: #E8F0FE;\n",
              "      border: none;\n",
              "      border-radius: 50%;\n",
              "      cursor: pointer;\n",
              "      display: none;\n",
              "      fill: #1967D2;\n",
              "      height: 32px;\n",
              "      padding: 0 0 0 0;\n",
              "      width: 32px;\n",
              "    }\n",
              "\n",
              "    .colab-df-convert:hover {\n",
              "      background-color: #E2EBFA;\n",
              "      box-shadow: 0px 1px 2px rgba(60, 64, 67, 0.3), 0px 1px 3px 1px rgba(60, 64, 67, 0.15);\n",
              "      fill: #174EA6;\n",
              "    }\n",
              "\n",
              "    .colab-df-buttons div {\n",
              "      margin-bottom: 4px;\n",
              "    }\n",
              "\n",
              "    [theme=dark] .colab-df-convert {\n",
              "      background-color: #3B4455;\n",
              "      fill: #D2E3FC;\n",
              "    }\n",
              "\n",
              "    [theme=dark] .colab-df-convert:hover {\n",
              "      background-color: #434B5C;\n",
              "      box-shadow: 0px 1px 3px 1px rgba(0, 0, 0, 0.15);\n",
              "      filter: drop-shadow(0px 1px 2px rgba(0, 0, 0, 0.3));\n",
              "      fill: #FFFFFF;\n",
              "    }\n",
              "  </style>\n",
              "\n",
              "    <script>\n",
              "      const buttonEl =\n",
              "        document.querySelector('#df-7b29323e-6e81-485f-aee7-ded3c0d2cf55 button.colab-df-convert');\n",
              "      buttonEl.style.display =\n",
              "        google.colab.kernel.accessAllowed ? 'block' : 'none';\n",
              "\n",
              "      async function convertToInteractive(key) {\n",
              "        const element = document.querySelector('#df-7b29323e-6e81-485f-aee7-ded3c0d2cf55');\n",
              "        const dataTable =\n",
              "          await google.colab.kernel.invokeFunction('convertToInteractive',\n",
              "                                                    [key], {});\n",
              "        if (!dataTable) return;\n",
              "\n",
              "        const docLinkHtml = 'Like what you see? Visit the ' +\n",
              "          '<a target=\"_blank\" href=https://colab.research.google.com/notebooks/data_table.ipynb>data table notebook</a>'\n",
              "          + ' to learn more about interactive tables.';\n",
              "        element.innerHTML = '';\n",
              "        dataTable['output_type'] = 'display_data';\n",
              "        await google.colab.output.renderOutput(dataTable, element);\n",
              "        const docLink = document.createElement('div');\n",
              "        docLink.innerHTML = docLinkHtml;\n",
              "        element.appendChild(docLink);\n",
              "      }\n",
              "    </script>\n",
              "  </div>\n",
              "\n",
              "\n",
              "<div id=\"df-f3ee099f-3f0c-461c-a73b-c0fd27a055a2\">\n",
              "  <button class=\"colab-df-quickchart\" onclick=\"quickchart('df-f3ee099f-3f0c-461c-a73b-c0fd27a055a2')\"\n",
              "            title=\"Suggest charts\"\n",
              "            style=\"display:none;\">\n",
              "\n",
              "<svg xmlns=\"http://www.w3.org/2000/svg\" height=\"24px\"viewBox=\"0 0 24 24\"\n",
              "     width=\"24px\">\n",
              "    <g>\n",
              "        <path d=\"M19 3H5c-1.1 0-2 .9-2 2v14c0 1.1.9 2 2 2h14c1.1 0 2-.9 2-2V5c0-1.1-.9-2-2-2zM9 17H7v-7h2v7zm4 0h-2V7h2v10zm4 0h-2v-4h2v4z\"/>\n",
              "    </g>\n",
              "</svg>\n",
              "  </button>\n",
              "\n",
              "<style>\n",
              "  .colab-df-quickchart {\n",
              "      --bg-color: #E8F0FE;\n",
              "      --fill-color: #1967D2;\n",
              "      --hover-bg-color: #E2EBFA;\n",
              "      --hover-fill-color: #174EA6;\n",
              "      --disabled-fill-color: #AAA;\n",
              "      --disabled-bg-color: #DDD;\n",
              "  }\n",
              "\n",
              "  [theme=dark] .colab-df-quickchart {\n",
              "      --bg-color: #3B4455;\n",
              "      --fill-color: #D2E3FC;\n",
              "      --hover-bg-color: #434B5C;\n",
              "      --hover-fill-color: #FFFFFF;\n",
              "      --disabled-bg-color: #3B4455;\n",
              "      --disabled-fill-color: #666;\n",
              "  }\n",
              "\n",
              "  .colab-df-quickchart {\n",
              "    background-color: var(--bg-color);\n",
              "    border: none;\n",
              "    border-radius: 50%;\n",
              "    cursor: pointer;\n",
              "    display: none;\n",
              "    fill: var(--fill-color);\n",
              "    height: 32px;\n",
              "    padding: 0;\n",
              "    width: 32px;\n",
              "  }\n",
              "\n",
              "  .colab-df-quickchart:hover {\n",
              "    background-color: var(--hover-bg-color);\n",
              "    box-shadow: 0 1px 2px rgba(60, 64, 67, 0.3), 0 1px 3px 1px rgba(60, 64, 67, 0.15);\n",
              "    fill: var(--button-hover-fill-color);\n",
              "  }\n",
              "\n",
              "  .colab-df-quickchart-complete:disabled,\n",
              "  .colab-df-quickchart-complete:disabled:hover {\n",
              "    background-color: var(--disabled-bg-color);\n",
              "    fill: var(--disabled-fill-color);\n",
              "    box-shadow: none;\n",
              "  }\n",
              "\n",
              "  .colab-df-spinner {\n",
              "    border: 2px solid var(--fill-color);\n",
              "    border-color: transparent;\n",
              "    border-bottom-color: var(--fill-color);\n",
              "    animation:\n",
              "      spin 1s steps(1) infinite;\n",
              "  }\n",
              "\n",
              "  @keyframes spin {\n",
              "    0% {\n",
              "      border-color: transparent;\n",
              "      border-bottom-color: var(--fill-color);\n",
              "      border-left-color: var(--fill-color);\n",
              "    }\n",
              "    20% {\n",
              "      border-color: transparent;\n",
              "      border-left-color: var(--fill-color);\n",
              "      border-top-color: var(--fill-color);\n",
              "    }\n",
              "    30% {\n",
              "      border-color: transparent;\n",
              "      border-left-color: var(--fill-color);\n",
              "      border-top-color: var(--fill-color);\n",
              "      border-right-color: var(--fill-color);\n",
              "    }\n",
              "    40% {\n",
              "      border-color: transparent;\n",
              "      border-right-color: var(--fill-color);\n",
              "      border-top-color: var(--fill-color);\n",
              "    }\n",
              "    60% {\n",
              "      border-color: transparent;\n",
              "      border-right-color: var(--fill-color);\n",
              "    }\n",
              "    80% {\n",
              "      border-color: transparent;\n",
              "      border-right-color: var(--fill-color);\n",
              "      border-bottom-color: var(--fill-color);\n",
              "    }\n",
              "    90% {\n",
              "      border-color: transparent;\n",
              "      border-bottom-color: var(--fill-color);\n",
              "    }\n",
              "  }\n",
              "</style>\n",
              "\n",
              "  <script>\n",
              "    async function quickchart(key) {\n",
              "      const quickchartButtonEl =\n",
              "        document.querySelector('#' + key + ' button');\n",
              "      quickchartButtonEl.disabled = true;  // To prevent multiple clicks.\n",
              "      quickchartButtonEl.classList.add('colab-df-spinner');\n",
              "      try {\n",
              "        const charts = await google.colab.kernel.invokeFunction(\n",
              "            'suggestCharts', [key], {});\n",
              "      } catch (error) {\n",
              "        console.error('Error during call to suggestCharts:', error);\n",
              "      }\n",
              "      quickchartButtonEl.classList.remove('colab-df-spinner');\n",
              "      quickchartButtonEl.classList.add('colab-df-quickchart-complete');\n",
              "    }\n",
              "    (() => {\n",
              "      let quickchartButtonEl =\n",
              "        document.querySelector('#df-f3ee099f-3f0c-461c-a73b-c0fd27a055a2 button');\n",
              "      quickchartButtonEl.style.display =\n",
              "        google.colab.kernel.accessAllowed ? 'block' : 'none';\n",
              "    })();\n",
              "  </script>\n",
              "</div>\n",
              "    </div>\n",
              "  </div>\n"
            ]
          },
          "metadata": {},
          "execution_count": 15
        }
      ],
      "source": [
        "df.head()"
      ]
    },
    {
      "cell_type": "code",
      "execution_count": null,
      "metadata": {
        "id": "8DGp0QpfXCfC"
      },
      "outputs": [],
      "source": [
        "# copy of the dataset.\n",
        "data = df.copy()"
      ]
    },
    {
      "cell_type": "code",
      "execution_count": null,
      "metadata": {
        "id": "hqF_1MeOYeHj",
        "colab": {
          "base_uri": "https://localhost:8080/"
        },
        "outputId": "4b58eced-cb6c-49a8-f538-7e8ea44f75a7"
      },
      "outputs": [
        {
          "output_type": "execute_result",
          "data": {
            "text/plain": [
              "(3390, 17)"
            ]
          },
          "metadata": {},
          "execution_count": 17
        }
      ],
      "source": [
        "# shape.\n",
        "data.shape"
      ]
    },
    {
      "cell_type": "markdown",
      "metadata": {
        "id": "d92r1Y2xZBYK"
      },
      "source": [
        "###Data Cleaning."
      ]
    },
    {
      "cell_type": "code",
      "execution_count": null,
      "metadata": {
        "id": "DvWVunp5zKuR"
      },
      "outputs": [],
      "source": [
        "# droping the useless column.\n",
        "data.drop('id', axis = 1, inplace = True)"
      ]
    },
    {
      "cell_type": "code",
      "execution_count": null,
      "metadata": {
        "id": "CAqi5F_mYgyi",
        "colab": {
          "base_uri": "https://localhost:8080/"
        },
        "outputId": "b799de8b-9cb5-4572-a094-efa5d8aeb6ea"
      },
      "outputs": [
        {
          "output_type": "execute_result",
          "data": {
            "text/plain": [
              "education      87\n",
              "cigsPerDay     22\n",
              "BPMeds         44\n",
              "totChol        38\n",
              "BMI            14\n",
              "heartRate       1\n",
              "glucose       304\n",
              "dtype: int64"
            ]
          },
          "metadata": {},
          "execution_count": 19
        }
      ],
      "source": [
        "# column with total null values.\n",
        "data.isnull().sum()[data.isnull().sum()>0]\n"
      ]
    },
    {
      "cell_type": "code",
      "execution_count": null,
      "metadata": {
        "id": "JaS6XEkF0EaC",
        "colab": {
          "base_uri": "https://localhost:8080/"
        },
        "outputId": "f0ffd597-a8b3-4101-fbd2-462c623f17ee"
      },
      "outputs": [
        {
          "output_type": "execute_result",
          "data": {
            "text/plain": [
              "510"
            ]
          },
          "metadata": {},
          "execution_count": 20
        }
      ],
      "source": [
        "# Total null values present in the dataset.\n",
        "data.isnull().sum().sum()"
      ]
    },
    {
      "cell_type": "code",
      "execution_count": null,
      "metadata": {
        "id": "EBglCKSX3UCE"
      },
      "outputs": [],
      "source": [
        "# function to fill the null values in categorical columns.\n",
        "def fillnull(df, columns):\n",
        "  '''functuion to fill the null values in categorical columns'''\n",
        "  for col in columns:\n",
        "    df[col]=df[col].fillna(df[col].mode()[0])"
      ]
    },
    {
      "cell_type": "code",
      "execution_count": null,
      "metadata": {
        "id": "P7pk93kCqaiS"
      },
      "outputs": [],
      "source": [
        "# filling the null values in categorical columns.\n",
        "fillnull(df = data, columns = ['education', 'BPMeds'])"
      ]
    },
    {
      "cell_type": "code",
      "execution_count": null,
      "metadata": {
        "id": "PNAzQKm-32TS"
      },
      "outputs": [],
      "source": [
        "# function to fill the continuous columns.\n",
        "def FillNan(df, columns):\n",
        "  '''function to fill the nan values in continuous variable'''\n",
        "  for col in columns:\n",
        "    data[col]=data[col].fillna(data[col].median())"
      ]
    },
    {
      "cell_type": "code",
      "execution_count": null,
      "metadata": {
        "id": "7eZlSdT4yB6x"
      },
      "outputs": [],
      "source": [
        "# filling the nan values of continuous columns.\n",
        "FillNan(df = data, columns = ['cigsPerDay', 'totChol', 'BMI', 'heartRate', 'glucose'])"
      ]
    },
    {
      "cell_type": "code",
      "execution_count": null,
      "metadata": {
        "id": "-cRoV74v4SLy",
        "colab": {
          "base_uri": "https://localhost:8080/"
        },
        "outputId": "9b740d50-8729-4d71-db9e-7077476e9bf8"
      },
      "outputs": [
        {
          "output_type": "execute_result",
          "data": {
            "text/plain": [
              "0"
            ]
          },
          "metadata": {},
          "execution_count": 25
        }
      ],
      "source": [
        "data.isnull().sum().sum()"
      ]
    },
    {
      "cell_type": "code",
      "source": [
        "# checking wether the person is smoking but there is no any cigrattes per day mentioned.\n",
        "data.loc[(data['is_smoking'] == 'YES') & (data['cigsPerDay'] == 0), ['is_smoking', 'cigsPerDay']]"
      ],
      "metadata": {
        "id": "J4HeWuUW6HBx",
        "colab": {
          "base_uri": "https://localhost:8080/",
          "height": 739
        },
        "outputId": "b109e9be-8f2d-4a81-9c21-8e58cd05610b"
      },
      "execution_count": null,
      "outputs": [
        {
          "output_type": "execute_result",
          "data": {
            "text/plain": [
              "     is_smoking  cigsPerDay\n",
              "422         YES         0.0\n",
              "466         YES         0.0\n",
              "469         YES         0.0\n",
              "491         YES         0.0\n",
              "538         YES         0.0\n",
              "767         YES         0.0\n",
              "1461        YES         0.0\n",
              "1467        YES         0.0\n",
              "1597        YES         0.0\n",
              "1986        YES         0.0\n",
              "2031        YES         0.0\n",
              "2087        YES         0.0\n",
              "2240        YES         0.0\n",
              "2284        YES         0.0\n",
              "2527        YES         0.0\n",
              "2638        YES         0.0\n",
              "2648        YES         0.0\n",
              "2723        YES         0.0\n",
              "2879        YES         0.0\n",
              "2945        YES         0.0\n",
              "3301        YES         0.0\n",
              "3378        YES         0.0"
            ],
            "text/html": [
              "\n",
              "  <div id=\"df-843afde4-8207-40f4-ad74-e66def338c11\" class=\"colab-df-container\">\n",
              "    <div>\n",
              "<style scoped>\n",
              "    .dataframe tbody tr th:only-of-type {\n",
              "        vertical-align: middle;\n",
              "    }\n",
              "\n",
              "    .dataframe tbody tr th {\n",
              "        vertical-align: top;\n",
              "    }\n",
              "\n",
              "    .dataframe thead th {\n",
              "        text-align: right;\n",
              "    }\n",
              "</style>\n",
              "<table border=\"1\" class=\"dataframe\">\n",
              "  <thead>\n",
              "    <tr style=\"text-align: right;\">\n",
              "      <th></th>\n",
              "      <th>is_smoking</th>\n",
              "      <th>cigsPerDay</th>\n",
              "    </tr>\n",
              "  </thead>\n",
              "  <tbody>\n",
              "    <tr>\n",
              "      <th>422</th>\n",
              "      <td>YES</td>\n",
              "      <td>0.0</td>\n",
              "    </tr>\n",
              "    <tr>\n",
              "      <th>466</th>\n",
              "      <td>YES</td>\n",
              "      <td>0.0</td>\n",
              "    </tr>\n",
              "    <tr>\n",
              "      <th>469</th>\n",
              "      <td>YES</td>\n",
              "      <td>0.0</td>\n",
              "    </tr>\n",
              "    <tr>\n",
              "      <th>491</th>\n",
              "      <td>YES</td>\n",
              "      <td>0.0</td>\n",
              "    </tr>\n",
              "    <tr>\n",
              "      <th>538</th>\n",
              "      <td>YES</td>\n",
              "      <td>0.0</td>\n",
              "    </tr>\n",
              "    <tr>\n",
              "      <th>767</th>\n",
              "      <td>YES</td>\n",
              "      <td>0.0</td>\n",
              "    </tr>\n",
              "    <tr>\n",
              "      <th>1461</th>\n",
              "      <td>YES</td>\n",
              "      <td>0.0</td>\n",
              "    </tr>\n",
              "    <tr>\n",
              "      <th>1467</th>\n",
              "      <td>YES</td>\n",
              "      <td>0.0</td>\n",
              "    </tr>\n",
              "    <tr>\n",
              "      <th>1597</th>\n",
              "      <td>YES</td>\n",
              "      <td>0.0</td>\n",
              "    </tr>\n",
              "    <tr>\n",
              "      <th>1986</th>\n",
              "      <td>YES</td>\n",
              "      <td>0.0</td>\n",
              "    </tr>\n",
              "    <tr>\n",
              "      <th>2031</th>\n",
              "      <td>YES</td>\n",
              "      <td>0.0</td>\n",
              "    </tr>\n",
              "    <tr>\n",
              "      <th>2087</th>\n",
              "      <td>YES</td>\n",
              "      <td>0.0</td>\n",
              "    </tr>\n",
              "    <tr>\n",
              "      <th>2240</th>\n",
              "      <td>YES</td>\n",
              "      <td>0.0</td>\n",
              "    </tr>\n",
              "    <tr>\n",
              "      <th>2284</th>\n",
              "      <td>YES</td>\n",
              "      <td>0.0</td>\n",
              "    </tr>\n",
              "    <tr>\n",
              "      <th>2527</th>\n",
              "      <td>YES</td>\n",
              "      <td>0.0</td>\n",
              "    </tr>\n",
              "    <tr>\n",
              "      <th>2638</th>\n",
              "      <td>YES</td>\n",
              "      <td>0.0</td>\n",
              "    </tr>\n",
              "    <tr>\n",
              "      <th>2648</th>\n",
              "      <td>YES</td>\n",
              "      <td>0.0</td>\n",
              "    </tr>\n",
              "    <tr>\n",
              "      <th>2723</th>\n",
              "      <td>YES</td>\n",
              "      <td>0.0</td>\n",
              "    </tr>\n",
              "    <tr>\n",
              "      <th>2879</th>\n",
              "      <td>YES</td>\n",
              "      <td>0.0</td>\n",
              "    </tr>\n",
              "    <tr>\n",
              "      <th>2945</th>\n",
              "      <td>YES</td>\n",
              "      <td>0.0</td>\n",
              "    </tr>\n",
              "    <tr>\n",
              "      <th>3301</th>\n",
              "      <td>YES</td>\n",
              "      <td>0.0</td>\n",
              "    </tr>\n",
              "    <tr>\n",
              "      <th>3378</th>\n",
              "      <td>YES</td>\n",
              "      <td>0.0</td>\n",
              "    </tr>\n",
              "  </tbody>\n",
              "</table>\n",
              "</div>\n",
              "    <div class=\"colab-df-buttons\">\n",
              "\n",
              "  <div class=\"colab-df-container\">\n",
              "    <button class=\"colab-df-convert\" onclick=\"convertToInteractive('df-843afde4-8207-40f4-ad74-e66def338c11')\"\n",
              "            title=\"Convert this dataframe to an interactive table.\"\n",
              "            style=\"display:none;\">\n",
              "\n",
              "  <svg xmlns=\"http://www.w3.org/2000/svg\" height=\"24px\" viewBox=\"0 -960 960 960\">\n",
              "    <path d=\"M120-120v-720h720v720H120Zm60-500h600v-160H180v160Zm220 220h160v-160H400v160Zm0 220h160v-160H400v160ZM180-400h160v-160H180v160Zm440 0h160v-160H620v160ZM180-180h160v-160H180v160Zm440 0h160v-160H620v160Z\"/>\n",
              "  </svg>\n",
              "    </button>\n",
              "\n",
              "  <style>\n",
              "    .colab-df-container {\n",
              "      display:flex;\n",
              "      gap: 12px;\n",
              "    }\n",
              "\n",
              "    .colab-df-convert {\n",
              "      background-color: #E8F0FE;\n",
              "      border: none;\n",
              "      border-radius: 50%;\n",
              "      cursor: pointer;\n",
              "      display: none;\n",
              "      fill: #1967D2;\n",
              "      height: 32px;\n",
              "      padding: 0 0 0 0;\n",
              "      width: 32px;\n",
              "    }\n",
              "\n",
              "    .colab-df-convert:hover {\n",
              "      background-color: #E2EBFA;\n",
              "      box-shadow: 0px 1px 2px rgba(60, 64, 67, 0.3), 0px 1px 3px 1px rgba(60, 64, 67, 0.15);\n",
              "      fill: #174EA6;\n",
              "    }\n",
              "\n",
              "    .colab-df-buttons div {\n",
              "      margin-bottom: 4px;\n",
              "    }\n",
              "\n",
              "    [theme=dark] .colab-df-convert {\n",
              "      background-color: #3B4455;\n",
              "      fill: #D2E3FC;\n",
              "    }\n",
              "\n",
              "    [theme=dark] .colab-df-convert:hover {\n",
              "      background-color: #434B5C;\n",
              "      box-shadow: 0px 1px 3px 1px rgba(0, 0, 0, 0.15);\n",
              "      filter: drop-shadow(0px 1px 2px rgba(0, 0, 0, 0.3));\n",
              "      fill: #FFFFFF;\n",
              "    }\n",
              "  </style>\n",
              "\n",
              "    <script>\n",
              "      const buttonEl =\n",
              "        document.querySelector('#df-843afde4-8207-40f4-ad74-e66def338c11 button.colab-df-convert');\n",
              "      buttonEl.style.display =\n",
              "        google.colab.kernel.accessAllowed ? 'block' : 'none';\n",
              "\n",
              "      async function convertToInteractive(key) {\n",
              "        const element = document.querySelector('#df-843afde4-8207-40f4-ad74-e66def338c11');\n",
              "        const dataTable =\n",
              "          await google.colab.kernel.invokeFunction('convertToInteractive',\n",
              "                                                    [key], {});\n",
              "        if (!dataTable) return;\n",
              "\n",
              "        const docLinkHtml = 'Like what you see? Visit the ' +\n",
              "          '<a target=\"_blank\" href=https://colab.research.google.com/notebooks/data_table.ipynb>data table notebook</a>'\n",
              "          + ' to learn more about interactive tables.';\n",
              "        element.innerHTML = '';\n",
              "        dataTable['output_type'] = 'display_data';\n",
              "        await google.colab.output.renderOutput(dataTable, element);\n",
              "        const docLink = document.createElement('div');\n",
              "        docLink.innerHTML = docLinkHtml;\n",
              "        element.appendChild(docLink);\n",
              "      }\n",
              "    </script>\n",
              "  </div>\n",
              "\n",
              "\n",
              "<div id=\"df-c9251478-eeed-4592-ad3d-4a1316209b3a\">\n",
              "  <button class=\"colab-df-quickchart\" onclick=\"quickchart('df-c9251478-eeed-4592-ad3d-4a1316209b3a')\"\n",
              "            title=\"Suggest charts\"\n",
              "            style=\"display:none;\">\n",
              "\n",
              "<svg xmlns=\"http://www.w3.org/2000/svg\" height=\"24px\"viewBox=\"0 0 24 24\"\n",
              "     width=\"24px\">\n",
              "    <g>\n",
              "        <path d=\"M19 3H5c-1.1 0-2 .9-2 2v14c0 1.1.9 2 2 2h14c1.1 0 2-.9 2-2V5c0-1.1-.9-2-2-2zM9 17H7v-7h2v7zm4 0h-2V7h2v10zm4 0h-2v-4h2v4z\"/>\n",
              "    </g>\n",
              "</svg>\n",
              "  </button>\n",
              "\n",
              "<style>\n",
              "  .colab-df-quickchart {\n",
              "      --bg-color: #E8F0FE;\n",
              "      --fill-color: #1967D2;\n",
              "      --hover-bg-color: #E2EBFA;\n",
              "      --hover-fill-color: #174EA6;\n",
              "      --disabled-fill-color: #AAA;\n",
              "      --disabled-bg-color: #DDD;\n",
              "  }\n",
              "\n",
              "  [theme=dark] .colab-df-quickchart {\n",
              "      --bg-color: #3B4455;\n",
              "      --fill-color: #D2E3FC;\n",
              "      --hover-bg-color: #434B5C;\n",
              "      --hover-fill-color: #FFFFFF;\n",
              "      --disabled-bg-color: #3B4455;\n",
              "      --disabled-fill-color: #666;\n",
              "  }\n",
              "\n",
              "  .colab-df-quickchart {\n",
              "    background-color: var(--bg-color);\n",
              "    border: none;\n",
              "    border-radius: 50%;\n",
              "    cursor: pointer;\n",
              "    display: none;\n",
              "    fill: var(--fill-color);\n",
              "    height: 32px;\n",
              "    padding: 0;\n",
              "    width: 32px;\n",
              "  }\n",
              "\n",
              "  .colab-df-quickchart:hover {\n",
              "    background-color: var(--hover-bg-color);\n",
              "    box-shadow: 0 1px 2px rgba(60, 64, 67, 0.3), 0 1px 3px 1px rgba(60, 64, 67, 0.15);\n",
              "    fill: var(--button-hover-fill-color);\n",
              "  }\n",
              "\n",
              "  .colab-df-quickchart-complete:disabled,\n",
              "  .colab-df-quickchart-complete:disabled:hover {\n",
              "    background-color: var(--disabled-bg-color);\n",
              "    fill: var(--disabled-fill-color);\n",
              "    box-shadow: none;\n",
              "  }\n",
              "\n",
              "  .colab-df-spinner {\n",
              "    border: 2px solid var(--fill-color);\n",
              "    border-color: transparent;\n",
              "    border-bottom-color: var(--fill-color);\n",
              "    animation:\n",
              "      spin 1s steps(1) infinite;\n",
              "  }\n",
              "\n",
              "  @keyframes spin {\n",
              "    0% {\n",
              "      border-color: transparent;\n",
              "      border-bottom-color: var(--fill-color);\n",
              "      border-left-color: var(--fill-color);\n",
              "    }\n",
              "    20% {\n",
              "      border-color: transparent;\n",
              "      border-left-color: var(--fill-color);\n",
              "      border-top-color: var(--fill-color);\n",
              "    }\n",
              "    30% {\n",
              "      border-color: transparent;\n",
              "      border-left-color: var(--fill-color);\n",
              "      border-top-color: var(--fill-color);\n",
              "      border-right-color: var(--fill-color);\n",
              "    }\n",
              "    40% {\n",
              "      border-color: transparent;\n",
              "      border-right-color: var(--fill-color);\n",
              "      border-top-color: var(--fill-color);\n",
              "    }\n",
              "    60% {\n",
              "      border-color: transparent;\n",
              "      border-right-color: var(--fill-color);\n",
              "    }\n",
              "    80% {\n",
              "      border-color: transparent;\n",
              "      border-right-color: var(--fill-color);\n",
              "      border-bottom-color: var(--fill-color);\n",
              "    }\n",
              "    90% {\n",
              "      border-color: transparent;\n",
              "      border-bottom-color: var(--fill-color);\n",
              "    }\n",
              "  }\n",
              "</style>\n",
              "\n",
              "  <script>\n",
              "    async function quickchart(key) {\n",
              "      const quickchartButtonEl =\n",
              "        document.querySelector('#' + key + ' button');\n",
              "      quickchartButtonEl.disabled = true;  // To prevent multiple clicks.\n",
              "      quickchartButtonEl.classList.add('colab-df-spinner');\n",
              "      try {\n",
              "        const charts = await google.colab.kernel.invokeFunction(\n",
              "            'suggestCharts', [key], {});\n",
              "      } catch (error) {\n",
              "        console.error('Error during call to suggestCharts:', error);\n",
              "      }\n",
              "      quickchartButtonEl.classList.remove('colab-df-spinner');\n",
              "      quickchartButtonEl.classList.add('colab-df-quickchart-complete');\n",
              "    }\n",
              "    (() => {\n",
              "      let quickchartButtonEl =\n",
              "        document.querySelector('#df-c9251478-eeed-4592-ad3d-4a1316209b3a button');\n",
              "      quickchartButtonEl.style.display =\n",
              "        google.colab.kernel.accessAllowed ? 'block' : 'none';\n",
              "    })();\n",
              "  </script>\n",
              "</div>\n",
              "    </div>\n",
              "  </div>\n"
            ]
          },
          "metadata": {},
          "execution_count": 26
        }
      ]
    },
    {
      "cell_type": "code",
      "execution_count": null,
      "metadata": {
        "id": "_8eUdOtYisiW",
        "colab": {
          "base_uri": "https://localhost:8080/"
        },
        "outputId": "fb675915-2c3b-41ca-8c39-a291031c0f3b"
      },
      "outputs": [
        {
          "output_type": "execute_result",
          "data": {
            "text/plain": [
              "22"
            ]
          },
          "metadata": {},
          "execution_count": 27
        }
      ],
      "source": [
        "# count of missfilled row.\n",
        "len(data.loc[(data['is_smoking'] == 'YES') & (data['cigsPerDay'] == 0)])"
      ]
    },
    {
      "cell_type": "code",
      "execution_count": null,
      "metadata": {
        "id": "6HlsMl5vjxMm",
        "colab": {
          "base_uri": "https://localhost:8080/"
        },
        "outputId": "735ab522-0e7d-4741-b1f4-36166972e6e0"
      },
      "outputs": [
        {
          "output_type": "execute_result",
          "data": {
            "text/plain": [
              "0"
            ]
          },
          "metadata": {},
          "execution_count": 28
        }
      ],
      "source": [
        "# checking wether the person is not smoking but the numbner of cigrattes cigrattes per day mentioned.\n",
        "len(data[(data['is_smoking']=='NO') & (data['cigsPerDay'] > 0)])"
      ]
    },
    {
      "cell_type": "code",
      "execution_count": null,
      "metadata": {
        "id": "NME0VSdJlArO",
        "colab": {
          "base_uri": "https://localhost:8080/"
        },
        "outputId": "21ccfb52-e06c-4553-c901-a7eab8344483"
      },
      "outputs": [
        {
          "output_type": "execute_result",
          "data": {
            "text/plain": [
              "NO     1703\n",
              "YES    1687\n",
              "Name: is_smoking, dtype: int64"
            ]
          },
          "metadata": {},
          "execution_count": 29
        }
      ],
      "source": [
        "# value counts of is_smoking column.\n",
        "data['is_smoking'].value_counts()"
      ]
    },
    {
      "cell_type": "code",
      "execution_count": null,
      "metadata": {
        "id": "JNw_51PulN4R"
      },
      "outputs": [],
      "source": [
        "# rectifying the mistakes.\n",
        "data.loc[(data['is_smoking'] == 'YES') & (data['cigsPerDay'] == 0), 'is_smoking'] = 'NO'"
      ]
    },
    {
      "cell_type": "code",
      "execution_count": null,
      "metadata": {
        "id": "qJnPf3-alyRB",
        "colab": {
          "base_uri": "https://localhost:8080/"
        },
        "outputId": "183b806b-fa24-4473-905a-38f9ba3805c4"
      },
      "outputs": [
        {
          "output_type": "execute_result",
          "data": {
            "text/plain": [
              "NO     1725\n",
              "YES    1665\n",
              "Name: is_smoking, dtype: int64"
            ]
          },
          "metadata": {},
          "execution_count": 31
        }
      ],
      "source": [
        "# Let's check the value counts again.\n",
        "data['is_smoking'].value_counts()"
      ]
    },
    {
      "cell_type": "markdown",
      "metadata": {
        "id": "PkkVXa80a6Gg"
      },
      "source": [
        "### What all manipulations have you done and insights you found?"
      ]
    },
    {
      "cell_type": "markdown",
      "metadata": {
        "id": "FYnt5Omya9Fi"
      },
      "source": [
        "### I made a copy of the original dataset for further processing. There was a mistake in the data the observation in is_smoking column was yes but the number of cigarettes per day was 0 in the same observation of some particular patients. So I rectified them by assigning the \"NO\" value in is_ smoking column where the number of cigarettes per day is 0.\n",
        "\n",
        "### Apart from that, I dropped the \"id\" column because it's not going to help us with any machine learning algorithm or in EDA. I also filled the null values in the categorical column with their mode and the continuous column with their median."
      ]
    },
    {
      "cell_type": "markdown",
      "metadata": {
        "id": "FUSX4PW55cIU"
      },
      "source": [
        "## ***4. Data Vizualization, Storytelling & Experimenting with charts : Understand the relationships between variables***"
      ]
    },
    {
      "cell_type": "code",
      "execution_count": null,
      "metadata": {
        "id": "fWmjbSMVLtkM",
        "colab": {
          "base_uri": "https://localhost:8080/"
        },
        "outputId": "440454e3-f235-402b-a411-2815ad6bac2d"
      },
      "outputs": [
        {
          "output_type": "execute_result",
          "data": {
            "text/plain": [
              "Index(['age', 'education', 'sex', 'is_smoking', 'cigsPerDay', 'BPMeds',\n",
              "       'prevalentStroke', 'prevalentHyp', 'diabetes', 'totChol', 'sysBP',\n",
              "       'diaBP', 'BMI', 'heartRate', 'glucose', 'TenYearCHD'],\n",
              "      dtype='object')"
            ]
          },
          "metadata": {},
          "execution_count": 32
        }
      ],
      "source": [
        "data.columns"
      ]
    },
    {
      "cell_type": "markdown",
      "metadata": {
        "id": "PDkCGL13zqti"
      },
      "source": [
        "##**Univariate Analysis**"
      ]
    },
    {
      "cell_type": "code",
      "source": [
        "import matplotlib.pyplot as plt\n",
        "import seaborn as sns\n",
        "\n",
        "plt.figure(figsize=(10, 7))\n",
        "sns.countplot(x='TenYearCHD', data=data)\n",
        "plt.show()"
      ],
      "metadata": {
        "colab": {
          "base_uri": "https://localhost:8080/",
          "height": 646
        },
        "id": "7cGn173NB-Et",
        "outputId": "12732f59-c79b-40b5-b70c-8f2881d1df8f"
      },
      "execution_count": null,
      "outputs": [
        {
          "output_type": "display_data",
          "data": {
            "text/plain": [
              "<Figure size 1000x700 with 0 Axes>"
            ]
          },
          "metadata": {}
        },
        {
          "output_type": "display_data",
          "data": {
            "text/plain": [
              "<Figure size 1000x700 with 1 Axes>"
            ],
            "image/png": "[encoded data removed]"
          },
          "metadata": {}
        }
      ]
    },
    {
      "cell_type": "markdown",
      "metadata": {
        "id": "AzxNE9P0Fkz1"
      },
      "source": [
        "###I wanted to see the distribution of the dependent variable, so I chose the count plot here. Countplot gives the best visualization when it comes to seeing the count of the variable finite values.\n",
        "\n",
        "###As we can see in the above count plot that there are approximately 3000 patients who have not the risk of coronary heart disease in ten years. Besides that almost 500 patients have the risk of it."
      ]
    },
    {
      "cell_type": "code",
      "execution_count": null,
      "metadata": {
        "id": "R7faN6Fo0kOR"
      },
      "outputs": [],
      "source": [
        "# categorical features.\n",
        "categorical_features = ['education', 'sex', 'is_smoking', 'BPMeds',\n",
        "       'prevalentStroke', 'prevalentHyp', 'diabetes',\n",
        "         'TenYearCHD']"
      ]
    },
    {
      "cell_type": "code",
      "execution_count": null,
      "metadata": {
        "id": "1ZIPinKh3AcJ"
      },
      "outputs": [],
      "source": [
        "# continuous features.\n",
        "continuous_features = ['age', 'cigsPerDay', 'totChol', 'sysBP',\n",
        "       'diaBP', 'BMI', 'heartRate', 'glucose']"
      ]
    },
    {
      "cell_type": "code",
      "source": [
        "plt.figure(figsize=(12, 20))\n",
        "for i, feature in enumerate(categorical_features):\n",
        "    plt.subplot(4, 2, i + 1)\n",
        "    sns.countplot(x=feature, data=data)\n",
        "\n",
        "plt.show()\n"
      ],
      "metadata": {
        "colab": {
          "base_uri": "https://localhost:8080/",
          "height": 1000
        },
        "id": "kmonT0cLD0au",
        "outputId": "cfac36d3-3e14-47b7-aff3-759ae258380f"
      },
      "execution_count": null,
      "outputs": [
        {
          "output_type": "display_data",
          "data": {
            "text/plain": [
              "<Figure size 1200x2000 with 8 Axes>"
            ],
            "image/png": "[encoded data removed]"
          },
          "metadata": {}
        },
        {
          "output_type": "display_data",
          "data": {
            "text/plain": [
              "<Figure size 1200x2000 with 8 Axes>"
            ],
            "image/png": "[encoded data removed]"
          },
          "metadata": {}
        }
      ]
    },
    {
      "cell_type": "markdown",
      "metadata": {
        "id": "Mu43wf0CH0n0"
      },
      "source": [
        "I picked countplot here also because as we now it gives the best visualization with count of the varibale values.\n",
        "\n",
        "**Insights found :-**\n",
        "\n",
        "🟠 education : - Most peoples are having only class 1.0 education whereas only few patients has education of class 4.0 we can see the actual numbers below.\n",
        "\n",
        "1.0 ---    1478\n",
        "\n",
        "2.0 ---    990\n",
        "\n",
        "3.0  ---   549\n",
        "\n",
        "4.0  ---   373\n",
        "\n",
        "🟠 sex : - In this data 1923 female and 1467 male.\n",
        "\n",
        "🟠 is_smoking :- Almost half of the total residents is smoking.\n",
        "\n",
        "🟠 BPMeds :- Less than 200 residents are on BP medication.\n",
        "\n",
        "🟠 prevalentStroke :- Rare patient has the history of prevalent stroke.\n",
        "\n",
        "🟠 prevalenthyp :- Almost 1000 residents has the history of prevalent hypertension.\n",
        "\n",
        "🟠 diabetes :- Less than 300 resident has diabetes.\n",
        "\n",
        "🟠 TenYearCHD :- Almost 500 residents has the risk of coronary heart disease."
      ]
    },
    {
      "cell_type": "code",
      "execution_count": null,
      "metadata": {
        "id": "v2e8yFld3hlZ",
        "colab": {
          "base_uri": "https://localhost:8080/",
          "height": 1000
        },
        "outputId": "693cf902-6d4b-4901-92a9-d57348dfcfae"
      },
      "outputs": [
        {
          "output_type": "display_data",
          "data": {
            "text/plain": [
              "<Figure size 1500x800 with 1 Axes>"
            ],
            "image/png": "[encoded data removed]"
          },
          "metadata": {}
        },
        {
          "output_type": "display_data",
          "data": {
            "text/plain": [
              "<Figure size 1500x800 with 0 Axes>"
            ]
          },
          "metadata": {}
        },
        {
          "output_type": "display_data",
          "data": {
            "text/plain": [
              "<Figure size 1500x800 with 1 Axes>"
            ],
            "image/png": "[encoded data removed]"
          },
          "metadata": {}
        }
      ],
      "source": [
        "# visualization of continuous features through box plot.\n",
        "plt.figure(figsize = (15,8))\n",
        "sns.boxplot(data = data[['age', 'cigsPerDay', 'totChol','BMI', 'heartRate', 'glucose']])\n",
        "plt.show()"
      ]
    },
    {
      "cell_type": "markdown",
      "metadata": {
        "id": "itERx8avRs5u"
      },
      "source": [
        "###I picked boxplot here beacuse it gives the better  visualization to see the distribution of continuous features.\n",
        "\n",
        "###Through the graph we can say that some outliers present in the data. But we are not going to treat the outliers here because for example if some patient has the highest heart rate or total cholestrol then obviously they are prone to CHD. If we'll remove those outliers then the model will not be able to predict with best accuracy."
      ]
    },
    {
      "cell_type": "code",
      "execution_count": null,
      "metadata": {
        "id": "VuPWqP6DLTG8"
      },
      "outputs": [],
      "source": [
        "# function to plot the distribution of numerical columns.\n",
        "def dist_plotting(columns):\n",
        "  ''' Returns subplots of histograms using seaborn '''\n",
        "  sns.set(rc={'axes.facecolor':'pink', 'figure.facecolor':'pink'})\n",
        "  fig, axes = plt.subplots(len(columns) , figsize=(18,40))\n",
        "\n",
        "  plot_list = zip(list(range(0,len(columns)+1)), columns)\n",
        "\n",
        "  for i , column in plot_list:\n",
        "    sns.histplot(ax = axes[i], x = data[column], kde = True)"
      ]
    },
    {
      "cell_type": "code",
      "execution_count": null,
      "metadata": {
        "id": "8BS2I1BkMkM0"
      },
      "outputs": [],
      "source": [
        "# numerical columns.\n",
        "numeric_col = ['age','cigsPerDay', 'totChol', 'sysBP',\n",
        "       'diaBP', 'BMI', 'heartRate', 'glucose']"
      ]
    },
    {
      "cell_type": "code",
      "execution_count": null,
      "metadata": {
        "id": "QeW7LzeXMtWT"
      },
      "outputs": [],
      "source": [
        "# plotting the numerical columns.\n",
        "dist_plotting(numeric_col)"
      ]
    },
    {
      "cell_type": "markdown",
      "metadata": {
        "id": "v7HxgdjBU1JI"
      },
      "source": [
        "### I picked histogram here because a histogram is an approximate representation of the distribution of numerical data. And here i wanted to see the distribution or range of each numerical features.\n",
        "\n",
        "### As seen from the above histograms, we can understand that :\n",
        "\n",
        "*   Age ranges from 35 years to 70 years and is almost normally distributed, with most people belonging to an age group of 40.\n",
        "*   Cigarettes smoked per day on an average are mainly 0, but 20 cigarettes a day are also prevalent.\n",
        "*   Cholestrol ranges form 100 to 700, with most belonging to 150 to 350.\n",
        "*   Systolic BP ranges mainly from 100 to 200.\n",
        "*   Diastolic BP ranges mainly from 60 to 120.\n",
        "*   BMI ranges mainly from 16 to 40.\n",
        "*   Heart rate ranges from 40 to 110 and most occurances are around 75.\n",
        "*   Glucose ranges mainly from 50 to 125, rest seem like outliers with extreme numbers but cannot be ignored as these numbers can cause risk of heart disease.\n",
        "\n",
        "### We can understand from the data that, it has wide range of numbers, which indicates that both healthy and unhealthy people are considered. To get a clear understanding of risk of heart disease all these categories play an important role, especially those which are on the higher end as these extreme numbers may make a person more vulnerable to heart disease.\n",
        "\n",
        "\n"
      ]
    },
    {
      "cell_type": "markdown",
      "metadata": {
        "id": "QUoEiyVz-iYK"
      },
      "source": [
        "##**Bivariate Analysis**"
      ]
    },
    {
      "cell_type": "code",
      "execution_count": null,
      "metadata": {
        "id": "FdeVTuFhDy3D"
      },
      "outputs": [],
      "source": [
        "# categorical features.\n",
        "cat_features = ['education', 'sex', 'is_smoking', 'BPMeds',\n",
        "       'prevalentStroke', 'prevalentHyp', 'diabetes', 'TenYearCHD']"
      ]
    },
    {
      "cell_type": "code",
      "source": [
        "sns.set(rc={'axes.facecolor': 'lightblue', 'figure.facecolor': 'lightblue'})\n",
        "plt.figure(figsize=(15, 22))\n",
        "\n",
        "for i, feature in enumerate(cat_features):\n",
        "    plt.subplot(4, 2, i + 1)\n",
        "    sns.countplot(x=feature, hue='TenYearCHD', data=data)\n",
        "\n",
        "plt.show()\n"
      ],
      "metadata": {
        "colab": {
          "base_uri": "https://localhost:8080/",
          "height": 1000
        },
        "id": "5037uMYGE-zx",
        "outputId": "36dc9780-557f-4cdc-ddd3-a039aaeb90e5"
      },
      "execution_count": null,
      "outputs": [
        {
          "output_type": "display_data",
          "data": {
            "text/plain": [
              "<Figure size 1500x2200 with 8 Axes>"
            ],
            "image/png": "[encoded data removed]"
          },
          "metadata": {}
        }
      ]
    },
    {
      "cell_type": "markdown",
      "source": [
        "### I chose the count plot here because I wanted to see the count of each class with respect to the target variable.\n",
        "\n",
        "###**Insights found :-**\n",
        "\n",
        "* Patients that belong to class 1 education is having the highest risk of CHD. As the class increases the risk decreases.\n",
        "* Males is having a slightly high risk as compared to females.\n",
        "* patients who smoke is having a bit more risk as compared to non-smokers.\n",
        "* Patient who is not having BPMeds is at high risk.\n",
        "* Patient who does not have a history of stroke are at high risk.\n",
        "* Patients who do not have diabetes are at high risk.\n",
        "\n",
        "### This is only one on one visualization of the columns with the target variable. There are various factors that decide the risk of CHD after ten years. Like age, cigarettes per day, diabetes, heart rate, cholesterol level, glucose, etc."
      ],
      "metadata": {
        "id": "65f6ljzaRLu-"
      }
    },
    {
      "cell_type": "code",
      "execution_count": null,
      "metadata": {
        "id": "DK31-QCVM1wt"
      },
      "outputs": [],
      "source": [
        "# continuous features.\n",
        "conti_feat_df = data[['age','cigsPerDay', 'totChol', 'sysBP',\n",
        "       'diaBP', 'BMI', 'heartRate', 'glucose']]"
      ]
    },
    {
      "cell_type": "code",
      "execution_count": null,
      "metadata": {
        "id": "vHfcnIQsPmkd"
      },
      "outputs": [],
      "source": [
        "# Visualization of continuous features through pairplot.\n",
        "sns.pairplot(conti_feat_df)\n",
        "plt.show()"
      ]
    },
    {
      "cell_type": "markdown",
      "metadata": {
        "id": "9nYX-dYvWjHv"
      },
      "source": [
        "### I used pairplot here because i wanted to see the best set of features and relationship between two or more variables.\n",
        "\n",
        "### The above Pairplot explains bivariate analysis for all the numerical columns, we can understand that:\n",
        "\n",
        "*   As cholestrol is low the systolic BP also remains low.\n",
        "*   Systolic BP and diastolic BP have a positive relationship.\n",
        "*   Most of the cases, less cholestrol means less glucose.\n",
        "*   Diastolic BP, systolic BP and BMI have a slight positive relationship."
      ]
    },
    {
      "cell_type": "markdown",
      "metadata": {
        "id": "n1DdFmFjY6nm"
      },
      "source": [
        "##**Correlation.**"
      ]
    },
    {
      "cell_type": "code",
      "execution_count": null,
      "metadata": {
        "id": "flsyXabaLC55"
      },
      "outputs": [],
      "source": [
        "#  checking the correlation among features through heatmap.\n",
        "plt.figure(figsize=(12,8))\n",
        "sns.heatmap(data.corr(), annot = True)"
      ]
    },
    {
      "cell_type": "markdown",
      "metadata": {
        "id": "5R5x2tRgceXz"
      },
      "source": [
        "###The insights that I have got from the above correlation heatmap are:-\n",
        "\n",
        "* diabetes and glucose show a very high correlation among them. The reason behind that is Diabetes is a disease that occurs when your blood glucose, also called blood sugar, is too high.\n",
        "\n",
        "* sysBP and diaBP show a high correlation among them. And both also show a high correlation with prevalenthyp.\n",
        "\n",
        "* cigarettes per day and heart rate show some negative correlation with age."
      ]
    },
    {
      "cell_type": "markdown",
      "metadata": {
        "id": "SP0WOJoJm1-y"
      },
      "source": [
        "#**Feature Engineering**"
      ]
    },
    {
      "cell_type": "markdown",
      "metadata": {
        "id": "RgVm6fT8nDdq"
      },
      "source": [
        "###**Note :-** I am not going to deal with outliers because it's healthcare data. Removing outliers from this data will lead us to lose some valuable or very important information that can deteriorate my ml model predictions. For example, if the patient has a very high heart rate that means the patient is prone to CHD. For the same reason, i am also not going to deal with multicollinearity because dropping any column would be very costly."
      ]
    },
    {
      "cell_type": "markdown",
      "metadata": {
        "id": "nZX_ObNGo7Tr"
      },
      "source": [
        "### We can make a new column pulse pressure here because the top number (systolic) minus the bottom number (diastolic) is the pulse pressure. It'll help me to reduce the column also it deals with the correlation among them."
      ]
    },
    {
      "cell_type": "code",
      "execution_count": null,
      "metadata": {
        "id": "Sb2m8l6BfL4y"
      },
      "outputs": [],
      "source": [
        "# making a new column pulse pressure.\n",
        "data['pulse_pressure']=data['sysBP'] - data['diaBP']"
      ]
    },
    {
      "cell_type": "markdown",
      "metadata": {
        "id": "lnSgWnwHq_7b"
      },
      "source": [
        "###I am going to drop both columns, apart from that i'll also drop is_smoking column because we can get the same information from number of cigrattes per day. Where 0 means \"NO\" and more than 0 means \"Yes\" and we are also getting how many they are smoking per day."
      ]
    },
    {
      "cell_type": "code",
      "execution_count": null,
      "metadata": {
        "id": "SLrkLqsoqCBj"
      },
      "outputs": [],
      "source": [
        "# Droping the column sysBP and diaBP.\n",
        "data.drop(['sysBP', 'diaBP', 'is_smoking'], axis = 1, inplace = True)"
      ]
    },
    {
      "cell_type": "markdown",
      "metadata": {
        "id": "r9jcX71Kr-LU"
      },
      "source": [
        "##Categorical Encoding."
      ]
    },
    {
      "cell_type": "code",
      "execution_count": null,
      "metadata": {
        "id": "M3kbpCmAr9Sz"
      },
      "outputs": [],
      "source": [
        "# encoding the sex column.\n",
        "data = pd.get_dummies(data, columns = ['sex'])"
      ]
    },
    {
      "cell_type": "code",
      "execution_count": null,
      "metadata": {
        "id": "wQ-bXBh1p4es"
      },
      "outputs": [],
      "source": [
        "data.columns"
      ]
    },
    {
      "cell_type": "markdown",
      "metadata": {
        "id": "ofGCg6CWstJc"
      },
      "source": [
        "## Handling class imbalance."
      ]
    },
    {
      "cell_type": "code",
      "execution_count": null,
      "metadata": {
        "id": "6vWuIX1Fp5nz"
      },
      "outputs": [],
      "source": [
        "# value counts of target variable.\n",
        "data['TenYearCHD'].value_counts()"
      ]
    },
    {
      "cell_type": "markdown",
      "metadata": {
        "id": "08DeFGqftJl5"
      },
      "source": [
        "### I can see here that it is a high-imbalance dataset. In an imbalanced dataset, the prediction of the machine learning model will be biased. To overcome this problem we have multiple methods but I am going to do that through SMOTE. This technique generates synthetic data for the minority class."
      ]
    },
    {
      "cell_type": "code",
      "execution_count": null,
      "metadata": {
        "id": "LssghniuxFn0"
      },
      "outputs": [],
      "source": [
        "# Importing library for handling imbalance data.\n",
        "from imblearn.over_sampling import SMOTE\n",
        "\n",
        "# istance for smote.\n",
        "smote = SMOTE()\n",
        "\n",
        "# separating the predictor and target variable\n",
        "independent_variables =['age', 'education', 'cigsPerDay', 'BPMeds', 'prevalentStroke',\n",
        "       'prevalentHyp', 'diabetes', 'totChol', 'BMI', 'heartRate', 'glucose', 'pulse_pressure', 'sex_F', 'sex_M']\n",
        "\n",
        "dependent_variable = 'TenYearCHD'\n",
        "X = data.loc[:, independent_variables]\n",
        "y = data[dependent_variable]\n",
        "\n",
        "# earlier shape of x and y.\n",
        "print(f'shape of X:{X.shape}')\n",
        "print(f'shape of y: {y.shape}')\n",
        "\n",
        "# over sampling the minority class through smote.\n",
        "X,y = smote.fit_resample(X,y)\n",
        "\n",
        "# shape after over sampling.\n",
        "print(f'shape of X after over sampling:{X.shape}')\n",
        "print(f'shape of y after over sampling: {y.shape}')"
      ]
    },
    {
      "cell_type": "code",
      "execution_count": null,
      "metadata": {
        "id": "OOyJRsUpzOY0"
      },
      "outputs": [],
      "source": [
        "# Counts of each classes after oversampling\n",
        "print(list(y).count(1))\n",
        "print(list(y).count(0))"
      ]
    },
    {
      "cell_type": "markdown",
      "metadata": {
        "id": "d15kjMA80_sc"
      },
      "source": [
        "### Data Preprocessing."
      ]
    },
    {
      "cell_type": "code",
      "execution_count": null,
      "metadata": {
        "id": "E3gou2JkzWi0"
      },
      "outputs": [],
      "source": [
        "# checking the range of dependent and independent variable.\n",
        "ind_var = X.columns\n",
        "data[ind_var].describe().loc[['min', 'max']]"
      ]
    },
    {
      "cell_type": "code",
      "execution_count": null,
      "metadata": {
        "id": "8yKbZxWv2Fje"
      },
      "outputs": [],
      "source": [
        "# scaling the independent features.\n",
        "scaler = MinMaxScaler()\n",
        "X = scaler.fit_transform(X)"
      ]
    },
    {
      "cell_type": "markdown",
      "metadata": {
        "id": "k1Uz3CrT6hol"
      },
      "source": [
        "### Data Splitting."
      ]
    },
    {
      "cell_type": "code",
      "execution_count": null,
      "metadata": {
        "id": "gu0ReJay4VAt"
      },
      "outputs": [],
      "source": [
        "# splitting the data.\n",
        "X_train, X_test, y_train, y_test = train_test_split(X, y , test_size = 0.25, random_state = 10)"
      ]
    },
    {
      "cell_type": "markdown",
      "metadata": {
        "id": "z4SLQULK7N0k"
      },
      "source": [
        "#**ML Model Implementation.**"
      ]
    },
    {
      "cell_type": "code",
      "execution_count": null,
      "metadata": {
        "id": "3SlfGwTt7L86"
      },
      "outputs": [],
      "source": [
        "# model dict.\n",
        "models = [\n",
        "          ['Logistic Regression: ',               LogisticRegression()],\n",
        "          ['Random Forest Classifier: ',          RandomForestClassifier()],\n",
        "          ['XGB Classifier: ',                    XGBClassifier()],\n",
        "          ['Support Vector Classifier: ',                  SVC()],\n",
        "          ['K Nearest Neighbor: ',                 KNeighborsClassifier()]\n",
        "]\n",
        "\n"
      ]
    },
    {
      "cell_type": "code",
      "execution_count": null,
      "metadata": {
        "id": "pdXwBN71-Qx-"
      },
      "outputs": [],
      "source": [
        "# fitting the model.\n",
        "import time\n",
        "model_data = []\n",
        "\n",
        "for name, model in models :\n",
        "  model_data_dic = {}\n",
        "  model_data_dic[\"Name\"] = name\n",
        "  start = time.time()\n",
        "\n",
        "  model.fit(X_train, y_train)\n",
        "  end = time.time()\n",
        "  y_pred = model.predict(X_test)\n",
        "\n",
        "  # model training time.\n",
        "  model_data_dic[\"Train_Time\"] = end - start\n",
        "\n",
        "  # model evaluation.\n",
        "\n",
        "     # precision score.\n",
        "  model_data_dic[\"Train_Precision\"] = precision_score(y_train, model.predict(X_train))\n",
        "  model_data_dic[\"Test_Precision\"] = precision_score(y_test, y_pred)\n",
        "\n",
        "     # recall score.\n",
        "  model_data_dic[\"Train_Recall\"] = recall_score(y_train, model.predict(X_train))\n",
        "  model_data_dic[\"Test_Recall\"] = recall_score(y_test, y_pred)\n",
        "\n",
        "     # roc_auc score\n",
        "  model_data_dic[\"Train_roc_auc\"] = roc_auc_score(y_train, model.predict(X_train))\n",
        "  model_data_dic[\"Test_roc_auc\"] = roc_auc_score(y_test, y_pred)\n",
        "\n",
        "  # appending the model data.\n",
        "  model_data.append(model_data_dic)\n",
        "\n",
        "# Training set.\n",
        "Train_Accuracy = accuracy_score(y_train, model.predict(X_train))\n",
        "print(f'The accuracy on training dataset is: {Train_Accuracy}')\n",
        "    # Validation set.\n",
        "Test_Accuracy = accuracy_score(y_test, y_pred)\n",
        "print(f'The accuracy on testing dataset is: {Test_Accuracy}')\n",
        "\n",
        "# converting list to dataframe.\n",
        "df = pd.DataFrame(model_data)"
      ]
    },
    {
      "cell_type": "code",
      "execution_count": null,
      "metadata": {
        "id": "gsqWeeJAaq_N"
      },
      "outputs": [],
      "source": [
        "# model with their accuracy score.\n",
        "df.reset_index(drop = True)"
      ]
    },
    {
      "cell_type": "markdown",
      "metadata": {
        "id": "ulj7jI2Jq7Ew"
      },
      "source": [
        "###From the model building section we can understand the best models are Random Forest and XGB Classifier. Between these two, Random Forest is overfitting to some extent but performs well on test data as well, compared to other models. Hence, we will try and improve the performance of the Random Forest model with hyperparameter tuning."
      ]
    },
    {
      "cell_type": "markdown",
      "metadata": {
        "id": "pc7bI8fGIvB5"
      },
      "source": [
        "#**Final Model**"
      ]
    },
    {
      "cell_type": "code",
      "execution_count": null,
      "metadata": {
        "id": "Q4-yHSWMFpUF"
      },
      "outputs": [],
      "source": [
        "# final model.\n",
        "rf_clf = RandomForestClassifier() # model instance\n",
        "rf_clf.fit(X_train, y_train)      # fitting the model\n",
        "rf_y_pred = rf_clf.predict(X_test)   # y prediction"
      ]
    },
    {
      "cell_type": "markdown",
      "metadata": {
        "id": "TGky8JyFJ2Fw"
      },
      "source": [
        "### Performence evaluation."
      ]
    },
    {
      "cell_type": "code",
      "execution_count": null,
      "metadata": {
        "id": "1Sfa4u66sahw"
      },
      "outputs": [],
      "source": [
        "# function for model evaluation\n",
        "accuracy = accuracy_score(y_test, rf_y_pred)\n",
        "print('Random Forest Classifier')\n",
        "print('Accuracy Score:',accuracy)\n",
        "print(classification_report(y_test, rf_y_pred))\n",
        "print(\"\\n Confusion matrix for test set:\")\n",
        "\n",
        "labels = ['NO', 'YES']\n",
        "cm = confusion_matrix(y_test, rf_y_pred)\n",
        "print(cm)\n",
        "\n",
        "print('**'*10)\n",
        "\n",
        "ax= plt.subplot()\n",
        "sns.heatmap(cm, annot=True, ax = ax); #annot=True to annotate cells\n",
        "\n",
        "# labels, title and ticks\n",
        "ax.set_xlabel('Predicted labels')\n",
        "ax.set_ylabel('True labels')\n",
        "ax.set_title('Confusion Matrix')\n",
        "ax.xaxis.set_ticklabels(labels)\n",
        "ax.yaxis.set_ticklabels(labels)"
      ]
    },
    {
      "cell_type": "markdown",
      "metadata": {
        "id": "c_Nbpc45Y90c"
      },
      "source": [
        "#**Cross Validation And Hyperparameter Tuning**"
      ]
    },
    {
      "cell_type": "markdown",
      "metadata": {
        "id": "vzWA0_qru3tw"
      },
      "source": [
        "\n",
        "\n",
        "\n",
        "###For this case the recall score becomes very important as we would want less false negative numbers. Which basically predicts that a person does not have risk of heart disease when he actually does. Hence, that is another reason of choosing random forest as a model."
      ]
    },
    {
      "cell_type": "code",
      "execution_count": null,
      "metadata": {
        "id": "5O_7N-6fgd6V"
      },
      "outputs": [],
      "source": [
        "# hyperparameter tuning.\n",
        "classifier = RandomForestClassifier()\n",
        "\n",
        "# Hyperparameter dictionary\n",
        "grid_values ={'n_estimators' : [160,180,200],\n",
        "                'max_depth': [10,11,12,13],\n",
        "                'min_samples_split': [2,3,4]}\n",
        "\n",
        "rf_classifier = GridSearchCV(classifier, param_grid = grid_values, scoring = 'recall', cv=5)\n",
        "\n",
        "# Fitting the object to train dataset\n",
        "rf_classifier.fit(X_train, y_train)"
      ]
    },
    {
      "cell_type": "code",
      "execution_count": null,
      "metadata": {
        "id": "Rs-TyXJ7gLjU"
      },
      "outputs": [],
      "source": [
        "# Getting the best hyperparameters.\n",
        "print(\"Best Hyperparameters:\", rf_classifier.best_params_)"
      ]
    },
    {
      "cell_type": "code",
      "execution_count": null,
      "metadata": {
        "id": "A7TRlSNOistl"
      },
      "outputs": [],
      "source": [
        "# fiting best hyperparameter to the Random Forest classifier model.\n",
        "grid_rf_clf = RandomForestClassifier(**rf_classifier.best_params_)\n",
        "grid_rf_clf.fit(X_train, y_train)\n",
        "grid_y_pred = grid_rf_clf.predict(X_test)\n",
        "\n",
        "# model evaluation.\n",
        "clf_report = classification_report(y_test, grid_y_pred)\n",
        "print(clf_report)\n",
        "\n",
        "print('**'*20)\n",
        "\n",
        "print('Confusion matrix of training dataset.')\n",
        "\n",
        "grid_train = grid_rf_clf.predict(X_train)\n",
        "print(confusion_matrix(y_train, grid_train))\n",
        "\n",
        "print('**'*20)\n",
        "\n",
        "print('Confusion matrix of testing dataset.')\n",
        "\n",
        "print(confusion_matrix(y_test, grid_y_pred))"
      ]
    },
    {
      "cell_type": "code",
      "execution_count": null,
      "metadata": {
        "id": "eCCOxXBy-UL0"
      },
      "outputs": [],
      "source": [
        "# accuracy score.\n",
        "grid_df = pd.DataFrame(columns = ['Model', 'Train Accuracy', 'Test Accuracy','Train Precision', 'Test Precision',\n",
        "                                     'Train Recall', 'Test Recall', 'Train roc_auc', 'Test roc_auc'])\n",
        "\n",
        "# model name.\n",
        "name = 'Random Forest Classifier'\n",
        "\n",
        "# Train and test accuracy score.\n",
        "train_accuracy = accuracy_score(y_train, grid_train)\n",
        "test_accuracy = accuracy_score(y_test, grid_y_pred)\n",
        "\n",
        "# train and test precision score.\n",
        "train_precision = precision_score(y_train, grid_train)\n",
        "test_precision= precision_score(y_test, grid_y_pred)\n",
        "\n",
        "# train and test recall score.\n",
        "train_recall = recall_score(y_train, grid_train)\n",
        "test_recall = recall_score(y_test, grid_y_pred)\n",
        "\n",
        "# train and test roc_auc score.\n",
        "train_roc_auc = roc_auc_score(y_train, grid_train)\n",
        "test_roc_auc = roc_auc_score(y_test, grid_y_pred)\n",
        "\n",
        "grid_df = grid_df.append({'Model': name,\n",
        "                           'Train Accuracy': train_accuracy,\n",
        "                           'Test Accuracy': test_accuracy,\n",
        "                           'Train Precision': train_precision,\n",
        "                           'Test Precision': test_precision,\n",
        "                           'Train Recall': train_recall,\n",
        "                           'Test Recall': test_recall,\n",
        "                           'Train roc_auc': train_roc_auc,\n",
        "                           'Test roc_auc': test_roc_auc},\n",
        "                           ignore_index = True)\n",
        "\n",
        "pd.DataFrame(grid_df)"
      ]
    },
    {
      "cell_type": "markdown",
      "metadata": {
        "id": "OHhiN6dzwIDa"
      },
      "source": [
        "### As we can see there is not that much impact of hyperparameter tuning on the modle, overfitting has been reduced while maintaining the scores derived from the base model."
      ]
    },
    {
      "cell_type": "markdown",
      "metadata": {
        "id": "EyZvrqDgwk85"
      },
      "source": [
        "###SHAP will help increase model explainability and enchance our predictions"
      ]
    },
    {
      "cell_type": "code",
      "execution_count": null,
      "metadata": {
        "id": "NB3MqSOpw_jL"
      },
      "outputs": [],
      "source": [
        "# installing shap.\n",
        "!pip install shap"
      ]
    },
    {
      "cell_type": "code",
      "execution_count": null,
      "metadata": {
        "id": "4RfUiavskAJG"
      },
      "outputs": [],
      "source": [
        "# Importing SHAP\n",
        "import shap\n",
        "\n",
        "# Creating instances of shap\n",
        "explainer = shap.TreeExplainer(grid_rf_clf)\n",
        "shap_values = explainer.shap_values(X_test)\n",
        "\n",
        "# converting x test into a dataframe.\n",
        "shap_df = pd.DataFrame(X_test, columns = ['age', 'education', 'cigsPerDay', 'BPMeds', 'prevalentStroke',\n",
        "       'prevalentHyp', 'diabetes', 'totChol', 'BMI', 'heartRate', 'glucose',\n",
        "       'pulsePressure', 'sex_F', 'sex_M'])\n",
        "\n",
        "# SHAP Summary Plot\n",
        "shap.summary_plot(shap_values, shap_df, plot_type = 'bar')"
      ]
    },
    {
      "cell_type": "markdown",
      "metadata": {
        "id": "yVHwKrJnxdmZ"
      },
      "source": [
        "### According to shap female and male are the most important features, followed by age, education, pulse pressure, cigarettes per day, total cholesterol, and so on."
      ]
    },
    {
      "cell_type": "markdown",
      "metadata": {
        "id": "Ycl6_OT1ygSH"
      },
      "source": [
        "#**Conclusion**"
      ]
    },
    {
      "cell_type": "markdown",
      "metadata": {
        "id": "5UMLbd-8ynQI"
      },
      "source": [
        "### I did a lot of work on this project, let me summarise it.\n",
        "* ### Data loading:- Mounted drive to load the CSV file and read it through pd.read_csv.\n",
        "* ### Data cleaning:- In this section, I cleaned the data by filling the null values through median and mode. I filled the education and BPMeds column through mode because it is nominal data. I also filled cigsPerDay, totChol, BMI, heartRate, glucose through the median. Because these all are continuous variables and filling it through the mean can affect the model. Because the mean is always affected by outliers.\n",
        "\n",
        "\n",
        "* ### EDA :- Performed it to get some useful insights.\n",
        "\n",
        "\n",
        "* ### Feature engineering:- Made a new column pulse pressure from sysBP and diaBP by doing subtraction within them. Then I did categorical encoding on the sex column. Handled the imbalance dataset to get an unbiased model and at last, I scaled the feature.\n",
        "\n",
        "###**Model Implemented**\n",
        "\n",
        "* ### Logistic Regression\n",
        "* ### XGB Classifier\n",
        "* ### Random Forest Classifier\n",
        "* ### K Nearest Neighbor\n",
        "* ### Support Vector Classifier\n",
        "\n",
        "###**Model Selected**\n",
        "\n",
        "* ### Random Forest Classifier:- The reason behind it is that it was performing very well with hyperparameter tuning as compared to all other models. I tuned it via grid search cv with recall scoring because grid search is very good when it comes to doing cross-validation on smaller datasets. I chose recall as scoring because it is health care data where we can't bear more false negative numbers.\n",
        "\n",
        "\n",
        "### The final results of the model are almost close to the base model and we have achieved almost 90% test accuracy and test precision, and test roc_auc score where as we have achieved almost 88% test recall.\n",
        "\n",
        "\n",
        "\n",
        "### At the end of the project I did a model explanation in which I got the feature importance according to SHAP. As per SHAP I got the sex, age, education, pulse pressure, and cigarettes per day were four main influencers.\n",
        "\n",
        "\n",
        "\n",
        "### Other methods or models could be used to further improve the model. With the help of a medical expert, we could engineer more features which would in turn help improve the model further."
      ]
    }
  ],
  "metadata": {
    "colab": {
      "provenance": [],
      "include_colab_link": true
    },
    "gpuClass": "standard",
    "kernelspec": {
      "display_name": "Python 3",
      "name": "python3"
    },
    "language_info": {
      "name": "python"
    }
  },
  "nbformat": 4,
  "nbformat_minor": 0
}